{
 "cells": [
  {
   "cell_type": "code",
   "execution_count": 1,
   "id": "e56f1f90-b63e-4092-b218-4ffd2f86b768",
   "metadata": {},
   "outputs": [],
   "source": [
    "#Using the spark session to get an sql \n",
    "import pyspark as ps\n",
    "spark = ps.sql.SparkSession.builder.getOrCreate()"
   ]
  },
  {
   "cell_type": "code",
   "execution_count": 5,
   "outputs": [],
   "source": [
    "#Import other useful libraries\n",
    "\n",
    "import pandas as pd\n",
    "import matplotlib.pyplot as plt\n",
    "import seaborn as sns"
   ],
   "metadata": {
    "collapsed": false
   }
  },
  {
   "cell_type": "code",
   "execution_count": 2,
   "id": "2a11aea1-8f9e-4ad3-a228-a40fbcf94b49",
   "metadata": {},
   "outputs": [],
   "source": [
    "#This provides us with a way of getting an sql dataframe with a schema that structures the data\n",
    "bigdata = spark.read.csv(r'C:\\Users\\matom\\OneDrive\\Documents\\Data Science\\MIT Big Data\\MIT805\\multiproductdata.csv', header = True, inferSchema=True)"
   ]
  },
  {
   "cell_type": "markdown",
   "source": [
    "**Exploratory Data Analysis**"
   ],
   "metadata": {
    "collapsed": false
   }
  },
  {
   "cell_type": "code",
   "execution_count": 3,
   "id": "551feeb9-a7d2-4928-8356-68f0cc2149ed",
   "metadata": {},
   "outputs": [
    {
     "name": "stdout",
     "output_type": "stream",
     "text": [
      "root\n",
      " |-- event_time: timestamp (nullable = true)\n",
      " |-- event_type: string (nullable = true)\n",
      " |-- product_id: integer (nullable = true)\n",
      " |-- category_id: long (nullable = true)\n",
      " |-- category_code: string (nullable = true)\n",
      " |-- brand: string (nullable = true)\n",
      " |-- price: double (nullable = true)\n",
      " |-- user_id: integer (nullable = true)\n",
      " |-- user_session: string (nullable = true)\n",
      "\n"
     ]
    }
   ],
   "source": [
    "#Now we can see the schema of the dataframe using the following command\n",
    "bigdata.printSchema()"
   ]
  },
  {
   "cell_type": "code",
   "execution_count": 6,
   "outputs": [
    {
     "data": {
      "text/plain": "  summary event_type            product_id            category_id  \\\n0   count   67501979              67501979               67501979   \n1    mean       None  1.2514064889882294E7  2.0578976443190984E18   \n2  stddev       None   1.725741362984622E7  2.0125490328842856E16   \n3     min       cart               1000365    2053013552226107603   \n4     max       view             100028554    2187707861038006932   \n\n         category_code     brand               price              user_id  \\\n0             45603808  58283744            67501979             67501979   \n1                 None       NaN  292.45931656461437  5.386397456296759E8   \n2                 None       NaN  355.67449958606784  2.288516105152206E7   \n3      accessories.bag    a-case                 0.0             10300217   \n4  stationery.cartrige     zyxel             2574.07            579969851   \n\n                           user_session  \n0                              67501969  \n1                                  None  \n2                                  None  \n3  0000007c-adbf-4ed7-af17-d1fef9763d67  \n4  fffffde2-4522-4b44-8a32-510c55739ba1  ",
      "text/html": "<div>\n<style scoped>\n    .dataframe tbody tr th:only-of-type {\n        vertical-align: middle;\n    }\n\n    .dataframe tbody tr th {\n        vertical-align: top;\n    }\n\n    .dataframe thead th {\n        text-align: right;\n    }\n</style>\n<table border=\"1\" class=\"dataframe\">\n  <thead>\n    <tr style=\"text-align: right;\">\n      <th></th>\n      <th>summary</th>\n      <th>event_type</th>\n      <th>product_id</th>\n      <th>category_id</th>\n      <th>category_code</th>\n      <th>brand</th>\n      <th>price</th>\n      <th>user_id</th>\n      <th>user_session</th>\n    </tr>\n  </thead>\n  <tbody>\n    <tr>\n      <th>0</th>\n      <td>count</td>\n      <td>67501979</td>\n      <td>67501979</td>\n      <td>67501979</td>\n      <td>45603808</td>\n      <td>58283744</td>\n      <td>67501979</td>\n      <td>67501979</td>\n      <td>67501969</td>\n    </tr>\n    <tr>\n      <th>1</th>\n      <td>mean</td>\n      <td>None</td>\n      <td>1.2514064889882294E7</td>\n      <td>2.0578976443190984E18</td>\n      <td>None</td>\n      <td>NaN</td>\n      <td>292.45931656461437</td>\n      <td>5.386397456296759E8</td>\n      <td>None</td>\n    </tr>\n    <tr>\n      <th>2</th>\n      <td>stddev</td>\n      <td>None</td>\n      <td>1.725741362984622E7</td>\n      <td>2.0125490328842856E16</td>\n      <td>None</td>\n      <td>NaN</td>\n      <td>355.67449958606784</td>\n      <td>2.288516105152206E7</td>\n      <td>None</td>\n    </tr>\n    <tr>\n      <th>3</th>\n      <td>min</td>\n      <td>cart</td>\n      <td>1000365</td>\n      <td>2053013552226107603</td>\n      <td>accessories.bag</td>\n      <td>a-case</td>\n      <td>0.0</td>\n      <td>10300217</td>\n      <td>0000007c-adbf-4ed7-af17-d1fef9763d67</td>\n    </tr>\n    <tr>\n      <th>4</th>\n      <td>max</td>\n      <td>view</td>\n      <td>100028554</td>\n      <td>2187707861038006932</td>\n      <td>stationery.cartrige</td>\n      <td>zyxel</td>\n      <td>2574.07</td>\n      <td>579969851</td>\n      <td>fffffde2-4522-4b44-8a32-510c55739ba1</td>\n    </tr>\n  </tbody>\n</table>\n</div>"
     },
     "execution_count": 6,
     "metadata": {},
     "output_type": "execute_result"
    }
   ],
   "source": [
    "#Let's check the description of our dataset\n",
    "bigdata.describe().toPandas()"
   ],
   "metadata": {
    "collapsed": false
   }
  },
  {
   "cell_type": "code",
   "execution_count": 7,
   "outputs": [],
   "source": [
    "#Let's remove null values from our dataset, since they will not provide us with any sort of insight\n",
    "clean_bigdata = bigdata.dropna(how='any')"
   ],
   "metadata": {
    "collapsed": false
   }
  },
  {
   "cell_type": "code",
   "execution_count": 4,
   "id": "9f12f7a3-e61f-4319-95c8-413d2902d1bc",
   "metadata": {},
   "outputs": [
    {
     "data": {
      "text/plain": [
       "9"
      ]
     },
     "execution_count": 4,
     "metadata": {},
     "output_type": "execute_result"
    }
   ],
   "source": [
    "#Length of the columns in my dataframe\n",
    "len(bigdata.columns)"
   ]
  },
  {
   "cell_type": "code",
   "execution_count": 5,
   "id": "953c66c2-040a-4458-a42d-29e4b71463f9",
   "metadata": {},
   "outputs": [
    {
     "data": {
      "text/plain": [
       "67501979"
      ]
     },
     "execution_count": 5,
     "metadata": {},
     "output_type": "execute_result"
    }
   ],
   "source": [
    "#Check the count of the rows in my original dataframe\n",
    "bigdata.count()"
   ]
  },
  {
   "cell_type": "code",
   "execution_count": null,
   "outputs": [],
   "source": [
    "#Check the count of the rows in my dataframe without any nulls\n",
    "clean_bigdata.count()"
   ],
   "metadata": {
    "collapsed": false
   }
  },
  {
   "cell_type": "code",
   "execution_count": 6,
   "id": "de847f47-6c3b-4907-a053-50a5258fffcb",
   "metadata": {},
   "outputs": [
    {
     "name": "stdout",
     "output_type": "stream",
     "text": [
      "+-------------------+------+--------------------+\n",
      "|         event_time| brand|        user_session|\n",
      "+-------------------+------+--------------------+\n",
      "|2019-11-01 02:00:00|xiaomi|4d3b30da-a5e4-49d...|\n",
      "|2019-11-01 02:00:00|janome|8e5f4f83-366c-4f7...|\n",
      "|2019-11-01 02:00:01| creed|755422e7-9040-477...|\n",
      "|2019-11-01 02:00:01|    lg|3bfb58cd-7892-48c...|\n",
      "|2019-11-01 02:00:01|xiaomi|313628f1-68b8-460...|\n",
      "+-------------------+------+--------------------+\n",
      "only showing top 5 rows\n",
      "\n"
     ]
    }
   ],
   "source": [
    "bigdata.select(\"event_time\",\"brand\",\"user_session\").show(5)"
   ]
  },
  {
   "cell_type": "code",
   "execution_count": 7,
   "id": "98436b52-09cf-4094-85d7-9cb6934577fa",
   "metadata": {},
   "outputs": [
    {
     "name": "stdout",
     "output_type": "stream",
     "text": [
      "Total number of unique user sessions: 13776051\n"
     ]
    }
   ],
   "source": [
    "#Now we want to see how many unique user sessions do we have in our dataset\n",
    "Number_unique_user_sessions = bigdata.select(\"user_session\").distinct().count()\n",
    "print(f\"Total number of unique user sessions: {Number_unique_user_sessions}\")"
   ]
  },
  {
   "cell_type": "code",
   "execution_count": 8,
   "id": "726da2d3-1dd2-42e3-88a0-3a21d959b9f7",
   "metadata": {},
   "outputs": [
    {
     "name": "stdout",
     "output_type": "stream",
     "text": [
      "Total number of unique user sessions: 3696117\n"
     ]
    }
   ],
   "source": [
    "#Now we want to understand for the time period under scrutiny what is the total number of unique customers that visited our site\n",
    "Number_unique_user_id = bigdata.select(\"user_id\").distinct().count()\n",
    "print(f\"Total number of unique user sessions: {Number_unique_user_id}\")"
   ]
  },
  {
   "cell_type": "code",
   "execution_count": 9,
   "id": "2279ef30-66c9-4236-b6bc-1b4b046b6ea9",
   "metadata": {},
   "outputs": [
    {
     "name": "stdout",
     "output_type": "stream",
     "text": [
      "+-------+------------------+\n",
      "|summary|             price|\n",
      "+-------+------------------+\n",
      "|  count|          67501979|\n",
      "|   mean|292.45931656461437|\n",
      "| stddev|355.67449958606784|\n",
      "|    min|               0.0|\n",
      "|    max|           2574.07|\n",
      "+-------+------------------+\n",
      "\n"
     ]
    }
   ],
   "source": [
    "#Now we want to check the price range and stastical measures for products on our site\n",
    "bigdata.describe(\"price\").show()"
   ]
  },
  {
   "cell_type": "code",
   "execution_count": 10,
   "id": "2093a41b-1f5b-4877-b6b4-a28871c41581",
   "metadata": {},
   "outputs": [
    {
     "name": "stdout",
     "output_type": "stream",
     "text": [
      "+-------------+------+\n",
      "|        brand| count|\n",
      "+-------------+------+\n",
      "|     yokohama|128697|\n",
      "|      edifier|  3565|\n",
      "|        welss|  4929|\n",
      "|      tuffoni|  3617|\n",
      "|         tega|  2317|\n",
      "|      serebro|  7105|\n",
      "|        crest|   325|\n",
      "|         tmnt|   574|\n",
      "|       alutec|  2587|\n",
      "|        sonel| 11501|\n",
      "|     nocnezna|   250|\n",
      "|     nutricia|  2496|\n",
      "|      bombbar|   852|\n",
      "|trianglegroup|    97|\n",
      "|      keenway|  2368|\n",
      "|        sigma|  2424|\n",
      "|        goo.n|  1031|\n",
      "|      fitwell|   532|\n",
      "| belaakalitva|   218|\n",
      "|       marley|  1063|\n",
      "+-------------+------+\n",
      "only showing top 20 rows\n",
      "\n"
     ]
    }
   ],
   "source": [
    "#We can also look at the brands and events associated with each brand\n",
    "bigdata.groupby(\"brand\").count().show()"
   ]
  },
  {
   "cell_type": "code",
   "execution_count": null,
   "id": "760adbdc-4648-4493-978b-4c519f1641a3",
   "metadata": {},
   "outputs": [],
   "source": [
    "#We can also look at the spend by category_code and by brand, but first we need to see what event actually occurred. Only Event = purchase will be considered.\n",
    "bigdata.groupby(\"event_type\",\"price\").sum().show()"
   ]
  }
 ],
 "metadata": {
  "kernelspec": {
   "display_name": "Python 3 (ipykernel)",
   "language": "python",
   "name": "python3"
  },
  "language_info": {
   "codemirror_mode": {
    "name": "ipython",
    "version": 3
   },
   "file_extension": ".py",
   "mimetype": "text/x-python",
   "name": "python",
   "nbconvert_exporter": "python",
   "pygments_lexer": "ipython3",
   "version": "3.9.7"
  }
 },
 "nbformat": 4,
 "nbformat_minor": 5
}
