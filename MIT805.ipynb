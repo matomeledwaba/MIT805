{
 "cells": [
  {
   "cell_type": "code",
   "execution_count": 1,
   "id": "e56f1f90-b63e-4092-b218-4ffd2f86b768",
   "metadata": {},
   "outputs": [],
   "source": [
    "#Using the spark session to get an sql \n",
    "import pyspark as ps\n",
    "spark = ps.sql.SparkSession.builder.getOrCreate()"
   ]
  },
  {
   "cell_type": "code",
   "execution_count": 2,
   "outputs": [],
   "source": [
    "#Import other useful libraries\n",
    "\n",
    "import pandas as pd\n",
    "import matplotlib.pyplot as plt\n",
    "import seaborn as sns"
   ],
   "metadata": {
    "collapsed": false
   }
  },
  {
   "cell_type": "code",
   "execution_count": 3,
   "id": "2a11aea1-8f9e-4ad3-a228-a40fbcf94b49",
   "metadata": {},
   "outputs": [],
   "source": [
    "#This provides us with a way of getting an sql dataframe with a schema that structures the data\n",
    "bigdata = spark.read.csv(r'C:\\Users\\matom\\OneDrive\\Documents\\Data Science\\MIT Big Data\\MIT805\\multiproductdata.csv', header = True, inferSchema=True)"
   ]
  },
  {
   "cell_type": "markdown",
   "source": [
    "**Exploratory Data Analysis**"
   ],
   "metadata": {
    "collapsed": false
   }
  },
  {
   "cell_type": "code",
   "execution_count": 3,
   "id": "551feeb9-a7d2-4928-8356-68f0cc2149ed",
   "metadata": {},
   "outputs": [
    {
     "name": "stdout",
     "output_type": "stream",
     "text": [
      "root\n",
      " |-- event_time: timestamp (nullable = true)\n",
      " |-- event_type: string (nullable = true)\n",
      " |-- product_id: integer (nullable = true)\n",
      " |-- category_id: long (nullable = true)\n",
      " |-- category_code: string (nullable = true)\n",
      " |-- brand: string (nullable = true)\n",
      " |-- price: double (nullable = true)\n",
      " |-- user_id: integer (nullable = true)\n",
      " |-- user_session: string (nullable = true)\n",
      "\n"
     ]
    }
   ],
   "source": [
    "#Now we can see the schema of the dataframe using the following command\n",
    "bigdata.printSchema()"
   ]
  },
  {
   "cell_type": "code",
   "execution_count": 6,
   "outputs": [
    {
     "data": {
      "text/plain": "  summary event_type            product_id            category_id  \\\n0   count   67501979              67501979               67501979   \n1    mean       None  1.2514064889882294E7  2.0578976443190984E18   \n2  stddev       None   1.725741362984622E7  2.0125490328842856E16   \n3     min       cart               1000365    2053013552226107603   \n4     max       view             100028554    2187707861038006932   \n\n         category_code     brand               price              user_id  \\\n0             45603808  58283744            67501979             67501979   \n1                 None       NaN  292.45931656461437  5.386397456296759E8   \n2                 None       NaN  355.67449958606784  2.288516105152206E7   \n3      accessories.bag    a-case                 0.0             10300217   \n4  stationery.cartrige     zyxel             2574.07            579969851   \n\n                           user_session  \n0                              67501969  \n1                                  None  \n2                                  None  \n3  0000007c-adbf-4ed7-af17-d1fef9763d67  \n4  fffffde2-4522-4b44-8a32-510c55739ba1  ",
      "text/html": "<div>\n<style scoped>\n    .dataframe tbody tr th:only-of-type {\n        vertical-align: middle;\n    }\n\n    .dataframe tbody tr th {\n        vertical-align: top;\n    }\n\n    .dataframe thead th {\n        text-align: right;\n    }\n</style>\n<table border=\"1\" class=\"dataframe\">\n  <thead>\n    <tr style=\"text-align: right;\">\n      <th></th>\n      <th>summary</th>\n      <th>event_type</th>\n      <th>product_id</th>\n      <th>category_id</th>\n      <th>category_code</th>\n      <th>brand</th>\n      <th>price</th>\n      <th>user_id</th>\n      <th>user_session</th>\n    </tr>\n  </thead>\n  <tbody>\n    <tr>\n      <th>0</th>\n      <td>count</td>\n      <td>67501979</td>\n      <td>67501979</td>\n      <td>67501979</td>\n      <td>45603808</td>\n      <td>58283744</td>\n      <td>67501979</td>\n      <td>67501979</td>\n      <td>67501969</td>\n    </tr>\n    <tr>\n      <th>1</th>\n      <td>mean</td>\n      <td>None</td>\n      <td>1.2514064889882294E7</td>\n      <td>2.0578976443190984E18</td>\n      <td>None</td>\n      <td>NaN</td>\n      <td>292.45931656461437</td>\n      <td>5.386397456296759E8</td>\n      <td>None</td>\n    </tr>\n    <tr>\n      <th>2</th>\n      <td>stddev</td>\n      <td>None</td>\n      <td>1.725741362984622E7</td>\n      <td>2.0125490328842856E16</td>\n      <td>None</td>\n      <td>NaN</td>\n      <td>355.67449958606784</td>\n      <td>2.288516105152206E7</td>\n      <td>None</td>\n    </tr>\n    <tr>\n      <th>3</th>\n      <td>min</td>\n      <td>cart</td>\n      <td>1000365</td>\n      <td>2053013552226107603</td>\n      <td>accessories.bag</td>\n      <td>a-case</td>\n      <td>0.0</td>\n      <td>10300217</td>\n      <td>0000007c-adbf-4ed7-af17-d1fef9763d67</td>\n    </tr>\n    <tr>\n      <th>4</th>\n      <td>max</td>\n      <td>view</td>\n      <td>100028554</td>\n      <td>2187707861038006932</td>\n      <td>stationery.cartrige</td>\n      <td>zyxel</td>\n      <td>2574.07</td>\n      <td>579969851</td>\n      <td>fffffde2-4522-4b44-8a32-510c55739ba1</td>\n    </tr>\n  </tbody>\n</table>\n</div>"
     },
     "execution_count": 6,
     "metadata": {},
     "output_type": "execute_result"
    }
   ],
   "source": [
    "#Let's check the description of our dataset\n",
    "bigdata.describe().toPandas()"
   ],
   "metadata": {
    "collapsed": false
   }
  },
  {
   "cell_type": "code",
   "execution_count": 4,
   "outputs": [],
   "source": [
    "#Let's remove null values from our dataset, since they will not provide us with any sort of insight\n",
    "clean_bigdata = bigdata.dropna(how='any')"
   ],
   "metadata": {
    "collapsed": false
   }
  },
  {
   "cell_type": "code",
   "execution_count": 4,
   "id": "9f12f7a3-e61f-4319-95c8-413d2902d1bc",
   "metadata": {},
   "outputs": [
    {
     "data": {
      "text/plain": [
       "9"
      ]
     },
     "execution_count": 4,
     "metadata": {},
     "output_type": "execute_result"
    }
   ],
   "source": [
    "#Length of the columns in my dataframe\n",
    "len(bigdata.columns)"
   ]
  },
  {
   "cell_type": "code",
   "execution_count": 8,
   "id": "953c66c2-040a-4458-a42d-29e4b71463f9",
   "metadata": {},
   "outputs": [
    {
     "data": {
      "text/plain": "67501979"
     },
     "execution_count": 8,
     "metadata": {},
     "output_type": "execute_result"
    }
   ],
   "source": [
    "#Check the count of the rows in my original dataframe\n",
    "bigdata.count()"
   ]
  },
  {
   "cell_type": "code",
   "execution_count": 9,
   "outputs": [
    {
     "data": {
      "text/plain": "42089564"
     },
     "execution_count": 9,
     "metadata": {},
     "output_type": "execute_result"
    }
   ],
   "source": [
    "#Check the count of the rows in my dataframe without any nulls\n",
    "clean_bigdata.count()"
   ],
   "metadata": {
    "collapsed": false
   }
  },
  {
   "cell_type": "code",
   "execution_count": 6,
   "id": "de847f47-6c3b-4907-a053-50a5258fffcb",
   "metadata": {},
   "outputs": [
    {
     "name": "stdout",
     "output_type": "stream",
     "text": [
      "+-------------------+------+--------------------+\n",
      "|         event_time| brand|        user_session|\n",
      "+-------------------+------+--------------------+\n",
      "|2019-11-01 02:00:00|xiaomi|4d3b30da-a5e4-49d...|\n",
      "|2019-11-01 02:00:00|janome|8e5f4f83-366c-4f7...|\n",
      "|2019-11-01 02:00:01| creed|755422e7-9040-477...|\n",
      "|2019-11-01 02:00:01|    lg|3bfb58cd-7892-48c...|\n",
      "|2019-11-01 02:00:01|xiaomi|313628f1-68b8-460...|\n",
      "+-------------------+------+--------------------+\n",
      "only showing top 5 rows\n",
      "\n"
     ]
    }
   ],
   "source": [
    "clean_bigdata.select(\"event_time\",\"brand\",\"user_session\").show(5)"
   ]
  },
  {
   "cell_type": "code",
   "execution_count": 5,
   "outputs": [],
   "source": [
    "#Creating subsets of the dataframe\n",
    "purchase_data = clean_bigdata.filter(clean_bigdata.event_type ==\"purchase\")\n",
    "#view_data = clean_bigdata.filter(clean_bigdata.event_type == \"view\")\n",
    "#cart_data = clean_bigdata.filter(clean_bigdata.event_type == \"cart\")"
   ],
   "metadata": {
    "collapsed": false
   }
  },
  {
   "cell_type": "code",
   "execution_count": 17,
   "outputs": [
    {
     "data": {
      "text/plain": "           event_time event_type  product_id          category_id  \\\n0 2019-11-01 02:01:04   purchase     1005161  2053013555631882655   \n1 2019-11-01 02:04:51   purchase     1004856  2053013555631882655   \n2 2019-11-01 02:06:33   purchase     1801881  2053013554415534427   \n3 2019-11-01 02:06:34   purchase     5800823  2053013553945772349   \n4 2019-11-01 02:07:38   purchase    30000218  2127425436764865054   \n\n                 category_code      brand   price    user_id  \\\n0       electronics.smartphone     xiaomi  211.92  513351129   \n1       electronics.smartphone    samsung  128.42  562958505   \n2         electronics.video.tv    samsung  488.80  557746614   \n3  electronics.audio.subwoofer  nakamichi  123.56  514166940   \n4   construction.tools.welding   magnetta  254.78  515240495   \n\n                           user_session  \n0  e6b7ce9b-1938-4e20-976c-8b4163aea11d  \n1  0f039697-fedc-40fa-8830-39c1a024351d  \n2  4d76d6d3-fff5-4880-8327-e9e57b618e0e  \n3  8ef5214a-86ad-4d0b-8df3-4280dd411b47  \n4  0253151d-5c84-4809-ba02-38ac405494e1  ",
      "text/html": "<div>\n<style scoped>\n    .dataframe tbody tr th:only-of-type {\n        vertical-align: middle;\n    }\n\n    .dataframe tbody tr th {\n        vertical-align: top;\n    }\n\n    .dataframe thead th {\n        text-align: right;\n    }\n</style>\n<table border=\"1\" class=\"dataframe\">\n  <thead>\n    <tr style=\"text-align: right;\">\n      <th></th>\n      <th>event_time</th>\n      <th>event_type</th>\n      <th>product_id</th>\n      <th>category_id</th>\n      <th>category_code</th>\n      <th>brand</th>\n      <th>price</th>\n      <th>user_id</th>\n      <th>user_session</th>\n    </tr>\n  </thead>\n  <tbody>\n    <tr>\n      <th>0</th>\n      <td>2019-11-01 02:01:04</td>\n      <td>purchase</td>\n      <td>1005161</td>\n      <td>2053013555631882655</td>\n      <td>electronics.smartphone</td>\n      <td>xiaomi</td>\n      <td>211.92</td>\n      <td>513351129</td>\n      <td>e6b7ce9b-1938-4e20-976c-8b4163aea11d</td>\n    </tr>\n    <tr>\n      <th>1</th>\n      <td>2019-11-01 02:04:51</td>\n      <td>purchase</td>\n      <td>1004856</td>\n      <td>2053013555631882655</td>\n      <td>electronics.smartphone</td>\n      <td>samsung</td>\n      <td>128.42</td>\n      <td>562958505</td>\n      <td>0f039697-fedc-40fa-8830-39c1a024351d</td>\n    </tr>\n    <tr>\n      <th>2</th>\n      <td>2019-11-01 02:06:33</td>\n      <td>purchase</td>\n      <td>1801881</td>\n      <td>2053013554415534427</td>\n      <td>electronics.video.tv</td>\n      <td>samsung</td>\n      <td>488.80</td>\n      <td>557746614</td>\n      <td>4d76d6d3-fff5-4880-8327-e9e57b618e0e</td>\n    </tr>\n    <tr>\n      <th>3</th>\n      <td>2019-11-01 02:06:34</td>\n      <td>purchase</td>\n      <td>5800823</td>\n      <td>2053013553945772349</td>\n      <td>electronics.audio.subwoofer</td>\n      <td>nakamichi</td>\n      <td>123.56</td>\n      <td>514166940</td>\n      <td>8ef5214a-86ad-4d0b-8df3-4280dd411b47</td>\n    </tr>\n    <tr>\n      <th>4</th>\n      <td>2019-11-01 02:07:38</td>\n      <td>purchase</td>\n      <td>30000218</td>\n      <td>2127425436764865054</td>\n      <td>construction.tools.welding</td>\n      <td>magnetta</td>\n      <td>254.78</td>\n      <td>515240495</td>\n      <td>0253151d-5c84-4809-ba02-38ac405494e1</td>\n    </tr>\n  </tbody>\n</table>\n</div>"
     },
     "execution_count": 17,
     "metadata": {},
     "output_type": "execute_result"
    }
   ],
   "source": [
    "purchase_data.toPandas().head(5)"
   ],
   "metadata": {
    "collapsed": false
   }
  },
  {
   "cell_type": "code",
   "execution_count": 19,
   "outputs": [
    {
     "data": {
      "text/plain": "<AxesSubplot:xlabel='price', ylabel='Count'>"
     },
     "execution_count": 19,
     "metadata": {},
     "output_type": "execute_result"
    },
    {
     "data": {
      "text/plain": "<Figure size 432x288 with 1 Axes>",
      "image/png": "[encoded data removed]"
     },
     "metadata": {
      "needs_background": "light"
     },
     "output_type": "display_data"
    }
   ],
   "source": [
    "#Visualize the purchase_data\n",
    "sns.histplot(purchase_data.toPandas()['price'])"
   ],
   "metadata": {
    "collapsed": false
   }
  },
  {
   "cell_type": "code",
   "execution_count": 6,
   "outputs": [
    {
     "ename": "ConnectionRefusedError",
     "evalue": "[WinError 10061] No connection could be made because the target machine actively refused it",
     "output_type": "error",
     "traceback": [
      "\u001B[1;31m---------------------------------------------------------------------------\u001B[0m",
      "\u001B[1;31mPy4JJavaError\u001B[0m                             Traceback (most recent call last)",
      "    \u001B[1;31m[... skipping hidden 1 frame]\u001B[0m\n",
      "\u001B[1;32m~\\AppData\\Local\\Temp/ipykernel_24772/4053731797.py\u001B[0m in \u001B[0;36m<module>\u001B[1;34m\u001B[0m\n\u001B[1;32m----> 1\u001B[1;33m \u001B[0msns\u001B[0m\u001B[1;33m.\u001B[0m\u001B[0mhistplot\u001B[0m\u001B[1;33m(\u001B[0m\u001B[0mview_data\u001B[0m\u001B[1;33m.\u001B[0m\u001B[0mtoPandas\u001B[0m\u001B[1;33m(\u001B[0m\u001B[1;33m)\u001B[0m\u001B[1;33m[\u001B[0m\u001B[1;34m'price'\u001B[0m\u001B[1;33m]\u001B[0m\u001B[1;33m)\u001B[0m\u001B[1;33m\u001B[0m\u001B[1;33m\u001B[0m\u001B[0m\n\u001B[0m",
      "\u001B[1;32m~\\anaconda3\\lib\\site-packages\\pyspark\\sql\\pandas\\conversion.py\u001B[0m in \u001B[0;36mtoPandas\u001B[1;34m(self)\u001B[0m\n\u001B[0;32m    204\u001B[0m         \u001B[1;31m# Below is toPandas without Arrow optimization.\u001B[0m\u001B[1;33m\u001B[0m\u001B[1;33m\u001B[0m\u001B[0m\n\u001B[1;32m--> 205\u001B[1;33m         \u001B[0mpdf\u001B[0m \u001B[1;33m=\u001B[0m \u001B[0mpd\u001B[0m\u001B[1;33m.\u001B[0m\u001B[0mDataFrame\u001B[0m\u001B[1;33m.\u001B[0m\u001B[0mfrom_records\u001B[0m\u001B[1;33m(\u001B[0m\u001B[0mself\u001B[0m\u001B[1;33m.\u001B[0m\u001B[0mcollect\u001B[0m\u001B[1;33m(\u001B[0m\u001B[1;33m)\u001B[0m\u001B[1;33m,\u001B[0m \u001B[0mcolumns\u001B[0m\u001B[1;33m=\u001B[0m\u001B[0mself\u001B[0m\u001B[1;33m.\u001B[0m\u001B[0mcolumns\u001B[0m\u001B[1;33m)\u001B[0m\u001B[1;33m\u001B[0m\u001B[1;33m\u001B[0m\u001B[0m\n\u001B[0m\u001B[0;32m    206\u001B[0m         \u001B[0mcolumn_counter\u001B[0m \u001B[1;33m=\u001B[0m \u001B[0mCounter\u001B[0m\u001B[1;33m(\u001B[0m\u001B[0mself\u001B[0m\u001B[1;33m.\u001B[0m\u001B[0mcolumns\u001B[0m\u001B[1;33m)\u001B[0m\u001B[1;33m\u001B[0m\u001B[1;33m\u001B[0m\u001B[0m\n",
      "\u001B[1;32m~\\anaconda3\\lib\\site-packages\\pyspark\\sql\\dataframe.py\u001B[0m in \u001B[0;36mcollect\u001B[1;34m(self)\u001B[0m\n\u001B[0;32m    816\u001B[0m         \u001B[1;32mwith\u001B[0m \u001B[0mSCCallSiteSync\u001B[0m\u001B[1;33m(\u001B[0m\u001B[0mself\u001B[0m\u001B[1;33m.\u001B[0m\u001B[0m_sc\u001B[0m\u001B[1;33m)\u001B[0m\u001B[1;33m:\u001B[0m\u001B[1;33m\u001B[0m\u001B[1;33m\u001B[0m\u001B[0m\n\u001B[1;32m--> 817\u001B[1;33m             \u001B[0msock_info\u001B[0m \u001B[1;33m=\u001B[0m \u001B[0mself\u001B[0m\u001B[1;33m.\u001B[0m\u001B[0m_jdf\u001B[0m\u001B[1;33m.\u001B[0m\u001B[0mcollectToPython\u001B[0m\u001B[1;33m(\u001B[0m\u001B[1;33m)\u001B[0m\u001B[1;33m\u001B[0m\u001B[1;33m\u001B[0m\u001B[0m\n\u001B[0m\u001B[0;32m    818\u001B[0m         \u001B[1;32mreturn\u001B[0m \u001B[0mlist\u001B[0m\u001B[1;33m(\u001B[0m\u001B[0m_load_from_socket\u001B[0m\u001B[1;33m(\u001B[0m\u001B[0msock_info\u001B[0m\u001B[1;33m,\u001B[0m \u001B[0mBatchedSerializer\u001B[0m\u001B[1;33m(\u001B[0m\u001B[0mCPickleSerializer\u001B[0m\u001B[1;33m(\u001B[0m\u001B[1;33m)\u001B[0m\u001B[1;33m)\u001B[0m\u001B[1;33m)\u001B[0m\u001B[1;33m)\u001B[0m\u001B[1;33m\u001B[0m\u001B[1;33m\u001B[0m\u001B[0m\n",
      "\u001B[1;32m~\\anaconda3\\lib\\site-packages\\py4j\\java_gateway.py\u001B[0m in \u001B[0;36m__call__\u001B[1;34m(self, *args)\u001B[0m\n\u001B[0;32m   1320\u001B[0m         \u001B[0manswer\u001B[0m \u001B[1;33m=\u001B[0m \u001B[0mself\u001B[0m\u001B[1;33m.\u001B[0m\u001B[0mgateway_client\u001B[0m\u001B[1;33m.\u001B[0m\u001B[0msend_command\u001B[0m\u001B[1;33m(\u001B[0m\u001B[0mcommand\u001B[0m\u001B[1;33m)\u001B[0m\u001B[1;33m\u001B[0m\u001B[1;33m\u001B[0m\u001B[0m\n\u001B[1;32m-> 1321\u001B[1;33m         return_value = get_return_value(\n\u001B[0m\u001B[0;32m   1322\u001B[0m             answer, self.gateway_client, self.target_id, self.name)\n",
      "\u001B[1;32m~\\anaconda3\\lib\\site-packages\\pyspark\\sql\\utils.py\u001B[0m in \u001B[0;36mdeco\u001B[1;34m(*a, **kw)\u001B[0m\n\u001B[0;32m    189\u001B[0m         \u001B[1;32mtry\u001B[0m\u001B[1;33m:\u001B[0m\u001B[1;33m\u001B[0m\u001B[1;33m\u001B[0m\u001B[0m\n\u001B[1;32m--> 190\u001B[1;33m             \u001B[1;32mreturn\u001B[0m \u001B[0mf\u001B[0m\u001B[1;33m(\u001B[0m\u001B[1;33m*\u001B[0m\u001B[0ma\u001B[0m\u001B[1;33m,\u001B[0m \u001B[1;33m**\u001B[0m\u001B[0mkw\u001B[0m\u001B[1;33m)\u001B[0m\u001B[1;33m\u001B[0m\u001B[1;33m\u001B[0m\u001B[0m\n\u001B[0m\u001B[0;32m    191\u001B[0m         \u001B[1;32mexcept\u001B[0m \u001B[0mPy4JJavaError\u001B[0m \u001B[1;32mas\u001B[0m \u001B[0me\u001B[0m\u001B[1;33m:\u001B[0m\u001B[1;33m\u001B[0m\u001B[1;33m\u001B[0m\u001B[0m\n",
      "\u001B[1;32m~\\anaconda3\\lib\\site-packages\\py4j\\protocol.py\u001B[0m in \u001B[0;36mget_return_value\u001B[1;34m(answer, gateway_client, target_id, name)\u001B[0m\n\u001B[0;32m    325\u001B[0m             \u001B[1;32mif\u001B[0m \u001B[0manswer\u001B[0m\u001B[1;33m[\u001B[0m\u001B[1;36m1\u001B[0m\u001B[1;33m]\u001B[0m \u001B[1;33m==\u001B[0m \u001B[0mREFERENCE_TYPE\u001B[0m\u001B[1;33m:\u001B[0m\u001B[1;33m\u001B[0m\u001B[1;33m\u001B[0m\u001B[0m\n\u001B[1;32m--> 326\u001B[1;33m                 raise Py4JJavaError(\n\u001B[0m\u001B[0;32m    327\u001B[0m                     \u001B[1;34m\"An error occurred while calling {0}{1}{2}.\\n\"\u001B[0m\u001B[1;33m.\u001B[0m\u001B[1;33m\u001B[0m\u001B[1;33m\u001B[0m\u001B[0m\n",
      "\u001B[1;31m<class 'str'>\u001B[0m: (<class 'ConnectionRefusedError'>, ConnectionRefusedError(10061, 'No connection could be made because the target machine actively refused it', None, 10061, None))",
      "\nDuring handling of the above exception, another exception occurred:\n",
      "\u001B[1;31mConnectionRefusedError\u001B[0m                    Traceback (most recent call last)",
      "    \u001B[1;31m[... skipping hidden 1 frame]\u001B[0m\n",
      "\u001B[1;32m~\\anaconda3\\lib\\site-packages\\IPython\\core\\interactiveshell.py\u001B[0m in \u001B[0;36mshowtraceback\u001B[1;34m(self, exc_tuple, filename, tb_offset, exception_only, running_compiled_code)\u001B[0m\n\u001B[0;32m   2067\u001B[0m                                             value, tb, tb_offset=tb_offset)\n\u001B[0;32m   2068\u001B[0m \u001B[1;33m\u001B[0m\u001B[0m\n\u001B[1;32m-> 2069\u001B[1;33m                     \u001B[0mself\u001B[0m\u001B[1;33m.\u001B[0m\u001B[0m_showtraceback\u001B[0m\u001B[1;33m(\u001B[0m\u001B[0metype\u001B[0m\u001B[1;33m,\u001B[0m \u001B[0mvalue\u001B[0m\u001B[1;33m,\u001B[0m \u001B[0mstb\u001B[0m\u001B[1;33m)\u001B[0m\u001B[1;33m\u001B[0m\u001B[1;33m\u001B[0m\u001B[0m\n\u001B[0m\u001B[0;32m   2070\u001B[0m                     \u001B[1;32mif\u001B[0m \u001B[0mself\u001B[0m\u001B[1;33m.\u001B[0m\u001B[0mcall_pdb\u001B[0m\u001B[1;33m:\u001B[0m\u001B[1;33m\u001B[0m\u001B[1;33m\u001B[0m\u001B[0m\n\u001B[0;32m   2071\u001B[0m                         \u001B[1;31m# drop into debugger\u001B[0m\u001B[1;33m\u001B[0m\u001B[1;33m\u001B[0m\u001B[0m\n",
      "\u001B[1;32m~\\anaconda3\\lib\\site-packages\\ipykernel\\zmqshell.py\u001B[0m in \u001B[0;36m_showtraceback\u001B[1;34m(self, etype, evalue, stb)\u001B[0m\n\u001B[0;32m    541\u001B[0m             \u001B[1;34m'traceback'\u001B[0m \u001B[1;33m:\u001B[0m \u001B[0mstb\u001B[0m\u001B[1;33m,\u001B[0m\u001B[1;33m\u001B[0m\u001B[1;33m\u001B[0m\u001B[0m\n\u001B[0;32m    542\u001B[0m             \u001B[1;34m'ename'\u001B[0m \u001B[1;33m:\u001B[0m \u001B[0mstr\u001B[0m\u001B[1;33m(\u001B[0m\u001B[0metype\u001B[0m\u001B[1;33m.\u001B[0m\u001B[0m__name__\u001B[0m\u001B[1;33m)\u001B[0m\u001B[1;33m,\u001B[0m\u001B[1;33m\u001B[0m\u001B[1;33m\u001B[0m\u001B[0m\n\u001B[1;32m--> 543\u001B[1;33m             \u001B[1;34m'evalue'\u001B[0m \u001B[1;33m:\u001B[0m \u001B[0mstr\u001B[0m\u001B[1;33m(\u001B[0m\u001B[0mevalue\u001B[0m\u001B[1;33m)\u001B[0m\u001B[1;33m,\u001B[0m\u001B[1;33m\u001B[0m\u001B[1;33m\u001B[0m\u001B[0m\n\u001B[0m\u001B[0;32m    544\u001B[0m         }\n\u001B[0;32m    545\u001B[0m \u001B[1;33m\u001B[0m\u001B[0m\n",
      "\u001B[1;32m~\\anaconda3\\lib\\site-packages\\py4j\\protocol.py\u001B[0m in \u001B[0;36m__str__\u001B[1;34m(self)\u001B[0m\n\u001B[0;32m    469\u001B[0m     \u001B[1;32mdef\u001B[0m \u001B[0m__str__\u001B[0m\u001B[1;33m(\u001B[0m\u001B[0mself\u001B[0m\u001B[1;33m)\u001B[0m\u001B[1;33m:\u001B[0m\u001B[1;33m\u001B[0m\u001B[1;33m\u001B[0m\u001B[0m\n\u001B[0;32m    470\u001B[0m         \u001B[0mgateway_client\u001B[0m \u001B[1;33m=\u001B[0m \u001B[0mself\u001B[0m\u001B[1;33m.\u001B[0m\u001B[0mjava_exception\u001B[0m\u001B[1;33m.\u001B[0m\u001B[0m_gateway_client\u001B[0m\u001B[1;33m\u001B[0m\u001B[1;33m\u001B[0m\u001B[0m\n\u001B[1;32m--> 471\u001B[1;33m         \u001B[0manswer\u001B[0m \u001B[1;33m=\u001B[0m \u001B[0mgateway_client\u001B[0m\u001B[1;33m.\u001B[0m\u001B[0msend_command\u001B[0m\u001B[1;33m(\u001B[0m\u001B[0mself\u001B[0m\u001B[1;33m.\u001B[0m\u001B[0mexception_cmd\u001B[0m\u001B[1;33m)\u001B[0m\u001B[1;33m\u001B[0m\u001B[1;33m\u001B[0m\u001B[0m\n\u001B[0m\u001B[0;32m    472\u001B[0m         \u001B[0mreturn_value\u001B[0m \u001B[1;33m=\u001B[0m \u001B[0mget_return_value\u001B[0m\u001B[1;33m(\u001B[0m\u001B[0manswer\u001B[0m\u001B[1;33m,\u001B[0m \u001B[0mgateway_client\u001B[0m\u001B[1;33m,\u001B[0m \u001B[1;32mNone\u001B[0m\u001B[1;33m,\u001B[0m \u001B[1;32mNone\u001B[0m\u001B[1;33m)\u001B[0m\u001B[1;33m\u001B[0m\u001B[1;33m\u001B[0m\u001B[0m\n\u001B[0;32m    473\u001B[0m         \u001B[1;31m# Note: technically this should return a bytestring 'str' rather than\u001B[0m\u001B[1;33m\u001B[0m\u001B[1;33m\u001B[0m\u001B[0m\n",
      "\u001B[1;32m~\\anaconda3\\lib\\site-packages\\py4j\\java_gateway.py\u001B[0m in \u001B[0;36msend_command\u001B[1;34m(self, command, retry, binary)\u001B[0m\n\u001B[0;32m   1034\u001B[0m          \u001B[1;32mif\u001B[0m\u001B[0;31m \u001B[0m\u001B[0;31m`\u001B[0m\u001B[0mbinary\u001B[0m\u001B[0;31m`\u001B[0m \u001B[1;32mis\u001B[0m\u001B[0;31m \u001B[0m\u001B[0;31m`\u001B[0m\u001B[1;32mTrue\u001B[0m\u001B[0;31m`\u001B[0m\u001B[1;33m.\u001B[0m\u001B[1;33m\u001B[0m\u001B[1;33m\u001B[0m\u001B[0m\n\u001B[0;32m   1035\u001B[0m         \"\"\"\n\u001B[1;32m-> 1036\u001B[1;33m         \u001B[0mconnection\u001B[0m \u001B[1;33m=\u001B[0m \u001B[0mself\u001B[0m\u001B[1;33m.\u001B[0m\u001B[0m_get_connection\u001B[0m\u001B[1;33m(\u001B[0m\u001B[1;33m)\u001B[0m\u001B[1;33m\u001B[0m\u001B[1;33m\u001B[0m\u001B[0m\n\u001B[0m\u001B[0;32m   1037\u001B[0m         \u001B[1;32mtry\u001B[0m\u001B[1;33m:\u001B[0m\u001B[1;33m\u001B[0m\u001B[1;33m\u001B[0m\u001B[0m\n\u001B[0;32m   1038\u001B[0m             \u001B[0mresponse\u001B[0m \u001B[1;33m=\u001B[0m \u001B[0mconnection\u001B[0m\u001B[1;33m.\u001B[0m\u001B[0msend_command\u001B[0m\u001B[1;33m(\u001B[0m\u001B[0mcommand\u001B[0m\u001B[1;33m)\u001B[0m\u001B[1;33m\u001B[0m\u001B[1;33m\u001B[0m\u001B[0m\n",
      "\u001B[1;32m~\\anaconda3\\lib\\site-packages\\py4j\\clientserver.py\u001B[0m in \u001B[0;36m_get_connection\u001B[1;34m(self)\u001B[0m\n\u001B[0;32m    282\u001B[0m \u001B[1;33m\u001B[0m\u001B[0m\n\u001B[0;32m    283\u001B[0m         \u001B[1;32mif\u001B[0m \u001B[0mconnection\u001B[0m \u001B[1;32mis\u001B[0m \u001B[1;32mNone\u001B[0m \u001B[1;32mor\u001B[0m \u001B[0mconnection\u001B[0m\u001B[1;33m.\u001B[0m\u001B[0msocket\u001B[0m \u001B[1;32mis\u001B[0m \u001B[1;32mNone\u001B[0m\u001B[1;33m:\u001B[0m\u001B[1;33m\u001B[0m\u001B[1;33m\u001B[0m\u001B[0m\n\u001B[1;32m--> 284\u001B[1;33m             \u001B[0mconnection\u001B[0m \u001B[1;33m=\u001B[0m \u001B[0mself\u001B[0m\u001B[1;33m.\u001B[0m\u001B[0m_create_new_connection\u001B[0m\u001B[1;33m(\u001B[0m\u001B[1;33m)\u001B[0m\u001B[1;33m\u001B[0m\u001B[1;33m\u001B[0m\u001B[0m\n\u001B[0m\u001B[0;32m    285\u001B[0m         \u001B[1;32mreturn\u001B[0m \u001B[0mconnection\u001B[0m\u001B[1;33m\u001B[0m\u001B[1;33m\u001B[0m\u001B[0m\n\u001B[0;32m    286\u001B[0m \u001B[1;33m\u001B[0m\u001B[0m\n",
      "\u001B[1;32m~\\anaconda3\\lib\\site-packages\\py4j\\clientserver.py\u001B[0m in \u001B[0;36m_create_new_connection\u001B[1;34m(self)\u001B[0m\n\u001B[0;32m    289\u001B[0m             \u001B[0mself\u001B[0m\u001B[1;33m.\u001B[0m\u001B[0mjava_parameters\u001B[0m\u001B[1;33m,\u001B[0m \u001B[0mself\u001B[0m\u001B[1;33m.\u001B[0m\u001B[0mpython_parameters\u001B[0m\u001B[1;33m,\u001B[0m\u001B[1;33m\u001B[0m\u001B[1;33m\u001B[0m\u001B[0m\n\u001B[0;32m    290\u001B[0m             self.gateway_property, self)\n\u001B[1;32m--> 291\u001B[1;33m         \u001B[0mconnection\u001B[0m\u001B[1;33m.\u001B[0m\u001B[0mconnect_to_java_server\u001B[0m\u001B[1;33m(\u001B[0m\u001B[1;33m)\u001B[0m\u001B[1;33m\u001B[0m\u001B[1;33m\u001B[0m\u001B[0m\n\u001B[0m\u001B[0;32m    292\u001B[0m         \u001B[0mself\u001B[0m\u001B[1;33m.\u001B[0m\u001B[0mset_thread_connection\u001B[0m\u001B[1;33m(\u001B[0m\u001B[0mconnection\u001B[0m\u001B[1;33m)\u001B[0m\u001B[1;33m\u001B[0m\u001B[1;33m\u001B[0m\u001B[0m\n\u001B[0;32m    293\u001B[0m         \u001B[1;32mreturn\u001B[0m \u001B[0mconnection\u001B[0m\u001B[1;33m\u001B[0m\u001B[1;33m\u001B[0m\u001B[0m\n",
      "\u001B[1;32m~\\anaconda3\\lib\\site-packages\\py4j\\clientserver.py\u001B[0m in \u001B[0;36mconnect_to_java_server\u001B[1;34m(self)\u001B[0m\n\u001B[0;32m    436\u001B[0m                 self.socket = self.ssl_context.wrap_socket(\n\u001B[0;32m    437\u001B[0m                     self.socket, server_hostname=self.java_address)\n\u001B[1;32m--> 438\u001B[1;33m             \u001B[0mself\u001B[0m\u001B[1;33m.\u001B[0m\u001B[0msocket\u001B[0m\u001B[1;33m.\u001B[0m\u001B[0mconnect\u001B[0m\u001B[1;33m(\u001B[0m\u001B[1;33m(\u001B[0m\u001B[0mself\u001B[0m\u001B[1;33m.\u001B[0m\u001B[0mjava_address\u001B[0m\u001B[1;33m,\u001B[0m \u001B[0mself\u001B[0m\u001B[1;33m.\u001B[0m\u001B[0mjava_port\u001B[0m\u001B[1;33m)\u001B[0m\u001B[1;33m)\u001B[0m\u001B[1;33m\u001B[0m\u001B[1;33m\u001B[0m\u001B[0m\n\u001B[0m\u001B[0;32m    439\u001B[0m             \u001B[0mself\u001B[0m\u001B[1;33m.\u001B[0m\u001B[0mstream\u001B[0m \u001B[1;33m=\u001B[0m \u001B[0mself\u001B[0m\u001B[1;33m.\u001B[0m\u001B[0msocket\u001B[0m\u001B[1;33m.\u001B[0m\u001B[0mmakefile\u001B[0m\u001B[1;33m(\u001B[0m\u001B[1;34m\"rb\"\u001B[0m\u001B[1;33m)\u001B[0m\u001B[1;33m\u001B[0m\u001B[1;33m\u001B[0m\u001B[0m\n\u001B[0;32m    440\u001B[0m             \u001B[0mself\u001B[0m\u001B[1;33m.\u001B[0m\u001B[0mis_connected\u001B[0m \u001B[1;33m=\u001B[0m \u001B[1;32mTrue\u001B[0m\u001B[1;33m\u001B[0m\u001B[1;33m\u001B[0m\u001B[0m\n",
      "\u001B[1;31mConnectionRefusedError\u001B[0m: [WinError 10061] No connection could be made because the target machine actively refused it"
     ]
    }
   ],
   "source": [
    "sns.histplot(view_data.toPandas()['price'])"
   ],
   "metadata": {
    "collapsed": false
   }
  },
  {
   "cell_type": "code",
   "execution_count": 22,
   "outputs": [
    {
     "ename": "ConnectionRefusedError",
     "evalue": "[WinError 10061] No connection could be made because the target machine actively refused it",
     "output_type": "error",
     "traceback": [
      "\u001B[1;31m---------------------------------------------------------------------------\u001B[0m",
      "\u001B[1;31mConnectionRefusedError\u001B[0m                    Traceback (most recent call last)",
      "\u001B[1;32m~\\AppData\\Local\\Temp/ipykernel_6072/2082337734.py\u001B[0m in \u001B[0;36m<module>\u001B[1;34m\u001B[0m\n\u001B[1;32m----> 1\u001B[1;33m \u001B[0msns\u001B[0m\u001B[1;33m.\u001B[0m\u001B[0mhistplot\u001B[0m\u001B[1;33m(\u001B[0m\u001B[0mcart_data\u001B[0m\u001B[1;33m.\u001B[0m\u001B[0mtoPandas\u001B[0m\u001B[1;33m(\u001B[0m\u001B[1;33m)\u001B[0m\u001B[1;33m[\u001B[0m\u001B[1;34m'price'\u001B[0m\u001B[1;33m]\u001B[0m\u001B[1;33m)\u001B[0m\u001B[1;33m\u001B[0m\u001B[1;33m\u001B[0m\u001B[0m\n\u001B[0m",
      "\u001B[1;32m~\\anaconda3\\lib\\site-packages\\pyspark\\sql\\pandas\\conversion.py\u001B[0m in \u001B[0;36mtoPandas\u001B[1;34m(self)\u001B[0m\n\u001B[0;32m     90\u001B[0m         \u001B[1;32mfrom\u001B[0m \u001B[0mpandas\u001B[0m\u001B[1;33m.\u001B[0m\u001B[0mcore\u001B[0m\u001B[1;33m.\u001B[0m\u001B[0mdtypes\u001B[0m\u001B[1;33m.\u001B[0m\u001B[0mcommon\u001B[0m \u001B[1;32mimport\u001B[0m \u001B[0mis_timedelta64_dtype\u001B[0m\u001B[1;33m\u001B[0m\u001B[1;33m\u001B[0m\u001B[0m\n\u001B[0;32m     91\u001B[0m \u001B[1;33m\u001B[0m\u001B[0m\n\u001B[1;32m---> 92\u001B[1;33m         \u001B[0mjconf\u001B[0m \u001B[1;33m=\u001B[0m \u001B[0mself\u001B[0m\u001B[1;33m.\u001B[0m\u001B[0msparkSession\u001B[0m\u001B[1;33m.\u001B[0m\u001B[0m_jconf\u001B[0m\u001B[1;33m\u001B[0m\u001B[1;33m\u001B[0m\u001B[0m\n\u001B[0m\u001B[0;32m     93\u001B[0m         \u001B[0mtimezone\u001B[0m \u001B[1;33m=\u001B[0m \u001B[0mjconf\u001B[0m\u001B[1;33m.\u001B[0m\u001B[0msessionLocalTimeZone\u001B[0m\u001B[1;33m(\u001B[0m\u001B[1;33m)\u001B[0m\u001B[1;33m\u001B[0m\u001B[1;33m\u001B[0m\u001B[0m\n\u001B[0;32m     94\u001B[0m \u001B[1;33m\u001B[0m\u001B[0m\n",
      "\u001B[1;32m~\\anaconda3\\lib\\site-packages\\pyspark\\sql\\session.py\u001B[0m in \u001B[0;36m_jconf\u001B[1;34m(self)\u001B[0m\n\u001B[0;32m    340\u001B[0m     \u001B[1;32mdef\u001B[0m \u001B[0m_jconf\u001B[0m\u001B[1;33m(\u001B[0m\u001B[0mself\u001B[0m\u001B[1;33m)\u001B[0m \u001B[1;33m->\u001B[0m \u001B[1;34m\"JavaObject\"\u001B[0m\u001B[1;33m:\u001B[0m\u001B[1;33m\u001B[0m\u001B[1;33m\u001B[0m\u001B[0m\n\u001B[0;32m    341\u001B[0m         \u001B[1;34m\"\"\"Accessor for the JVM SQL-specific configurations\"\"\"\u001B[0m\u001B[1;33m\u001B[0m\u001B[1;33m\u001B[0m\u001B[0m\n\u001B[1;32m--> 342\u001B[1;33m         \u001B[1;32mreturn\u001B[0m \u001B[0mself\u001B[0m\u001B[1;33m.\u001B[0m\u001B[0m_jsparkSession\u001B[0m\u001B[1;33m.\u001B[0m\u001B[0msessionState\u001B[0m\u001B[1;33m(\u001B[0m\u001B[1;33m)\u001B[0m\u001B[1;33m.\u001B[0m\u001B[0mconf\u001B[0m\u001B[1;33m(\u001B[0m\u001B[1;33m)\u001B[0m\u001B[1;33m\u001B[0m\u001B[1;33m\u001B[0m\u001B[0m\n\u001B[0m\u001B[0;32m    343\u001B[0m \u001B[1;33m\u001B[0m\u001B[0m\n\u001B[0;32m    344\u001B[0m     \u001B[1;33m@\u001B[0m\u001B[0msince\u001B[0m\u001B[1;33m(\u001B[0m\u001B[1;36m2.0\u001B[0m\u001B[1;33m)\u001B[0m\u001B[1;33m\u001B[0m\u001B[1;33m\u001B[0m\u001B[0m\n",
      "\u001B[1;32m~\\anaconda3\\lib\\site-packages\\py4j\\java_gateway.py\u001B[0m in \u001B[0;36m__call__\u001B[1;34m(self, *args)\u001B[0m\n\u001B[0;32m   1318\u001B[0m             \u001B[0mproto\u001B[0m\u001B[1;33m.\u001B[0m\u001B[0mEND_COMMAND_PART\u001B[0m\u001B[1;33m\u001B[0m\u001B[1;33m\u001B[0m\u001B[0m\n\u001B[0;32m   1319\u001B[0m \u001B[1;33m\u001B[0m\u001B[0m\n\u001B[1;32m-> 1320\u001B[1;33m         \u001B[0manswer\u001B[0m \u001B[1;33m=\u001B[0m \u001B[0mself\u001B[0m\u001B[1;33m.\u001B[0m\u001B[0mgateway_client\u001B[0m\u001B[1;33m.\u001B[0m\u001B[0msend_command\u001B[0m\u001B[1;33m(\u001B[0m\u001B[0mcommand\u001B[0m\u001B[1;33m)\u001B[0m\u001B[1;33m\u001B[0m\u001B[1;33m\u001B[0m\u001B[0m\n\u001B[0m\u001B[0;32m   1321\u001B[0m         return_value = get_return_value(\n\u001B[0;32m   1322\u001B[0m             answer, self.gateway_client, self.target_id, self.name)\n",
      "\u001B[1;32m~\\anaconda3\\lib\\site-packages\\py4j\\java_gateway.py\u001B[0m in \u001B[0;36msend_command\u001B[1;34m(self, command, retry, binary)\u001B[0m\n\u001B[0;32m   1034\u001B[0m          \u001B[1;32mif\u001B[0m\u001B[0;31m \u001B[0m\u001B[0;31m`\u001B[0m\u001B[0mbinary\u001B[0m\u001B[0;31m`\u001B[0m \u001B[1;32mis\u001B[0m\u001B[0;31m \u001B[0m\u001B[0;31m`\u001B[0m\u001B[1;32mTrue\u001B[0m\u001B[0;31m`\u001B[0m\u001B[1;33m.\u001B[0m\u001B[1;33m\u001B[0m\u001B[1;33m\u001B[0m\u001B[0m\n\u001B[0;32m   1035\u001B[0m         \"\"\"\n\u001B[1;32m-> 1036\u001B[1;33m         \u001B[0mconnection\u001B[0m \u001B[1;33m=\u001B[0m \u001B[0mself\u001B[0m\u001B[1;33m.\u001B[0m\u001B[0m_get_connection\u001B[0m\u001B[1;33m(\u001B[0m\u001B[1;33m)\u001B[0m\u001B[1;33m\u001B[0m\u001B[1;33m\u001B[0m\u001B[0m\n\u001B[0m\u001B[0;32m   1037\u001B[0m         \u001B[1;32mtry\u001B[0m\u001B[1;33m:\u001B[0m\u001B[1;33m\u001B[0m\u001B[1;33m\u001B[0m\u001B[0m\n\u001B[0;32m   1038\u001B[0m             \u001B[0mresponse\u001B[0m \u001B[1;33m=\u001B[0m \u001B[0mconnection\u001B[0m\u001B[1;33m.\u001B[0m\u001B[0msend_command\u001B[0m\u001B[1;33m(\u001B[0m\u001B[0mcommand\u001B[0m\u001B[1;33m)\u001B[0m\u001B[1;33m\u001B[0m\u001B[1;33m\u001B[0m\u001B[0m\n",
      "\u001B[1;32m~\\anaconda3\\lib\\site-packages\\py4j\\clientserver.py\u001B[0m in \u001B[0;36m_get_connection\u001B[1;34m(self)\u001B[0m\n\u001B[0;32m    282\u001B[0m \u001B[1;33m\u001B[0m\u001B[0m\n\u001B[0;32m    283\u001B[0m         \u001B[1;32mif\u001B[0m \u001B[0mconnection\u001B[0m \u001B[1;32mis\u001B[0m \u001B[1;32mNone\u001B[0m \u001B[1;32mor\u001B[0m \u001B[0mconnection\u001B[0m\u001B[1;33m.\u001B[0m\u001B[0msocket\u001B[0m \u001B[1;32mis\u001B[0m \u001B[1;32mNone\u001B[0m\u001B[1;33m:\u001B[0m\u001B[1;33m\u001B[0m\u001B[1;33m\u001B[0m\u001B[0m\n\u001B[1;32m--> 284\u001B[1;33m             \u001B[0mconnection\u001B[0m \u001B[1;33m=\u001B[0m \u001B[0mself\u001B[0m\u001B[1;33m.\u001B[0m\u001B[0m_create_new_connection\u001B[0m\u001B[1;33m(\u001B[0m\u001B[1;33m)\u001B[0m\u001B[1;33m\u001B[0m\u001B[1;33m\u001B[0m\u001B[0m\n\u001B[0m\u001B[0;32m    285\u001B[0m         \u001B[1;32mreturn\u001B[0m \u001B[0mconnection\u001B[0m\u001B[1;33m\u001B[0m\u001B[1;33m\u001B[0m\u001B[0m\n\u001B[0;32m    286\u001B[0m \u001B[1;33m\u001B[0m\u001B[0m\n",
      "\u001B[1;32m~\\anaconda3\\lib\\site-packages\\py4j\\clientserver.py\u001B[0m in \u001B[0;36m_create_new_connection\u001B[1;34m(self)\u001B[0m\n\u001B[0;32m    289\u001B[0m             \u001B[0mself\u001B[0m\u001B[1;33m.\u001B[0m\u001B[0mjava_parameters\u001B[0m\u001B[1;33m,\u001B[0m \u001B[0mself\u001B[0m\u001B[1;33m.\u001B[0m\u001B[0mpython_parameters\u001B[0m\u001B[1;33m,\u001B[0m\u001B[1;33m\u001B[0m\u001B[1;33m\u001B[0m\u001B[0m\n\u001B[0;32m    290\u001B[0m             self.gateway_property, self)\n\u001B[1;32m--> 291\u001B[1;33m         \u001B[0mconnection\u001B[0m\u001B[1;33m.\u001B[0m\u001B[0mconnect_to_java_server\u001B[0m\u001B[1;33m(\u001B[0m\u001B[1;33m)\u001B[0m\u001B[1;33m\u001B[0m\u001B[1;33m\u001B[0m\u001B[0m\n\u001B[0m\u001B[0;32m    292\u001B[0m         \u001B[0mself\u001B[0m\u001B[1;33m.\u001B[0m\u001B[0mset_thread_connection\u001B[0m\u001B[1;33m(\u001B[0m\u001B[0mconnection\u001B[0m\u001B[1;33m)\u001B[0m\u001B[1;33m\u001B[0m\u001B[1;33m\u001B[0m\u001B[0m\n\u001B[0;32m    293\u001B[0m         \u001B[1;32mreturn\u001B[0m \u001B[0mconnection\u001B[0m\u001B[1;33m\u001B[0m\u001B[1;33m\u001B[0m\u001B[0m\n",
      "\u001B[1;32m~\\anaconda3\\lib\\site-packages\\py4j\\clientserver.py\u001B[0m in \u001B[0;36mconnect_to_java_server\u001B[1;34m(self)\u001B[0m\n\u001B[0;32m    436\u001B[0m                 self.socket = self.ssl_context.wrap_socket(\n\u001B[0;32m    437\u001B[0m                     self.socket, server_hostname=self.java_address)\n\u001B[1;32m--> 438\u001B[1;33m             \u001B[0mself\u001B[0m\u001B[1;33m.\u001B[0m\u001B[0msocket\u001B[0m\u001B[1;33m.\u001B[0m\u001B[0mconnect\u001B[0m\u001B[1;33m(\u001B[0m\u001B[1;33m(\u001B[0m\u001B[0mself\u001B[0m\u001B[1;33m.\u001B[0m\u001B[0mjava_address\u001B[0m\u001B[1;33m,\u001B[0m \u001B[0mself\u001B[0m\u001B[1;33m.\u001B[0m\u001B[0mjava_port\u001B[0m\u001B[1;33m)\u001B[0m\u001B[1;33m)\u001B[0m\u001B[1;33m\u001B[0m\u001B[1;33m\u001B[0m\u001B[0m\n\u001B[0m\u001B[0;32m    439\u001B[0m             \u001B[0mself\u001B[0m\u001B[1;33m.\u001B[0m\u001B[0mstream\u001B[0m \u001B[1;33m=\u001B[0m \u001B[0mself\u001B[0m\u001B[1;33m.\u001B[0m\u001B[0msocket\u001B[0m\u001B[1;33m.\u001B[0m\u001B[0mmakefile\u001B[0m\u001B[1;33m(\u001B[0m\u001B[1;34m\"rb\"\u001B[0m\u001B[1;33m)\u001B[0m\u001B[1;33m\u001B[0m\u001B[1;33m\u001B[0m\u001B[0m\n\u001B[0;32m    440\u001B[0m             \u001B[0mself\u001B[0m\u001B[1;33m.\u001B[0m\u001B[0mis_connected\u001B[0m \u001B[1;33m=\u001B[0m \u001B[1;32mTrue\u001B[0m\u001B[1;33m\u001B[0m\u001B[1;33m\u001B[0m\u001B[0m\n",
      "\u001B[1;31mConnectionRefusedError\u001B[0m: [WinError 10061] No connection could be made because the target machine actively refused it"
     ]
    }
   ],
   "source": [
    "sns.histplot(cart_data.toPandas()['price'])"
   ],
   "metadata": {
    "collapsed": false
   }
  },
  {
   "cell_type": "code",
   "execution_count": 7,
   "outputs": [
    {
     "data": {
      "text/plain": "            product_id   category_id       price       user_id\nbrand                                                         \na-elita   3.290008e+07  2.055157e+18        8.49  5.239640e+08\naardwolf  2.163066e+08  1.437109e+19      219.10  3.863416e+09\nacer      1.314051e+10  1.314685e+22  3347306.53  3.477099e+12\naces      5.800951e+06  2.053014e+18       86.49  5.380641e+08\nacme      5.969742e+08  1.539760e+20     3793.57  4.093882e+10\n...                ...           ...         ...           ...\nzongshen  7.160028e+07  8.212054e+18      931.48  2.064409e+09\nzoom      2.300317e+06  2.053014e+18      177.61  5.714990e+08\nzotac     4.690662e+07  1.437109e+19     1906.14  3.926525e+09\nzte       1.125341e+08  2.299375e+20     8904.13  6.154308e+10\nzubr      3.357667e+09  1.508580e+20     8730.84  3.908223e+10\n\n[1236 rows x 4 columns]",
      "text/html": "<div>\n<style scoped>\n    .dataframe tbody tr th:only-of-type {\n        vertical-align: middle;\n    }\n\n    .dataframe tbody tr th {\n        vertical-align: top;\n    }\n\n    .dataframe thead th {\n        text-align: right;\n    }\n</style>\n<table border=\"1\" class=\"dataframe\">\n  <thead>\n    <tr style=\"text-align: right;\">\n      <th></th>\n      <th>product_id</th>\n      <th>category_id</th>\n      <th>price</th>\n      <th>user_id</th>\n    </tr>\n    <tr>\n      <th>brand</th>\n      <th></th>\n      <th></th>\n      <th></th>\n      <th></th>\n    </tr>\n  </thead>\n  <tbody>\n    <tr>\n      <th>a-elita</th>\n      <td>3.290008e+07</td>\n      <td>2.055157e+18</td>\n      <td>8.49</td>\n      <td>5.239640e+08</td>\n    </tr>\n    <tr>\n      <th>aardwolf</th>\n      <td>2.163066e+08</td>\n      <td>1.437109e+19</td>\n      <td>219.10</td>\n      <td>3.863416e+09</td>\n    </tr>\n    <tr>\n      <th>acer</th>\n      <td>1.314051e+10</td>\n      <td>1.314685e+22</td>\n      <td>3347306.53</td>\n      <td>3.477099e+12</td>\n    </tr>\n    <tr>\n      <th>aces</th>\n      <td>5.800951e+06</td>\n      <td>2.053014e+18</td>\n      <td>86.49</td>\n      <td>5.380641e+08</td>\n    </tr>\n    <tr>\n      <th>acme</th>\n      <td>5.969742e+08</td>\n      <td>1.539760e+20</td>\n      <td>3793.57</td>\n      <td>4.093882e+10</td>\n    </tr>\n    <tr>\n      <th>...</th>\n      <td>...</td>\n      <td>...</td>\n      <td>...</td>\n      <td>...</td>\n    </tr>\n    <tr>\n      <th>zongshen</th>\n      <td>7.160028e+07</td>\n      <td>8.212054e+18</td>\n      <td>931.48</td>\n      <td>2.064409e+09</td>\n    </tr>\n    <tr>\n      <th>zoom</th>\n      <td>2.300317e+06</td>\n      <td>2.053014e+18</td>\n      <td>177.61</td>\n      <td>5.714990e+08</td>\n    </tr>\n    <tr>\n      <th>zotac</th>\n      <td>4.690662e+07</td>\n      <td>1.437109e+19</td>\n      <td>1906.14</td>\n      <td>3.926525e+09</td>\n    </tr>\n    <tr>\n      <th>zte</th>\n      <td>1.125341e+08</td>\n      <td>2.299375e+20</td>\n      <td>8904.13</td>\n      <td>6.154308e+10</td>\n    </tr>\n    <tr>\n      <th>zubr</th>\n      <td>3.357667e+09</td>\n      <td>1.508580e+20</td>\n      <td>8730.84</td>\n      <td>3.908223e+10</td>\n    </tr>\n  </tbody>\n</table>\n<p>1236 rows × 4 columns</p>\n</div>"
     },
     "execution_count": 7,
     "metadata": {},
     "output_type": "execute_result"
    }
   ],
   "source": [
    "#Group the purchases by brand & product category\n",
    "purchase_data.toPandas().groupby('brand').sum('price')\n"
   ],
   "metadata": {
    "collapsed": false
   }
  },
  {
   "cell_type": "code",
   "execution_count": null,
   "outputs": [],
   "source": [
    "x2 = purchase_data.toPandas().groupby('brand').sum('price')['brand']\n",
    "y2 = purchase_data.toPandas().groupby('brand').sum('price')['price']"
   ],
   "metadata": {
    "collapsed": false,
    "pycharm": {
     "is_executing": true
    }
   }
  },
  {
   "cell_type": "code",
   "execution_count": 8,
   "id": "98436b52-09cf-4094-85d7-9cb6934577fa",
   "metadata": {},
   "outputs": [
    {
     "ename": "ConnectionRefusedError",
     "evalue": "[WinError 10061] No connection could be made because the target machine actively refused it",
     "output_type": "error",
     "traceback": [
      "\u001B[1;31m---------------------------------------------------------------------------\u001B[0m",
      "\u001B[1;31mConnectionRefusedError\u001B[0m                    Traceback (most recent call last)",
      "\u001B[1;32m~\\AppData\\Local\\Temp/ipykernel_24772/4120139405.py\u001B[0m in \u001B[0;36m<module>\u001B[1;34m\u001B[0m\n\u001B[0;32m      1\u001B[0m \u001B[1;31m#Now we want to see how many unique user sessions do we have in our dataset\u001B[0m\u001B[1;33m\u001B[0m\u001B[1;33m\u001B[0m\u001B[0m\n\u001B[1;32m----> 2\u001B[1;33m \u001B[0mNumber_unique_user_sessions\u001B[0m \u001B[1;33m=\u001B[0m \u001B[0mclean_bigdata\u001B[0m\u001B[1;33m.\u001B[0m\u001B[0mselect\u001B[0m\u001B[1;33m(\u001B[0m\u001B[1;34m\"user_session\"\u001B[0m\u001B[1;33m)\u001B[0m\u001B[1;33m.\u001B[0m\u001B[0mdistinct\u001B[0m\u001B[1;33m(\u001B[0m\u001B[1;33m)\u001B[0m\u001B[1;33m.\u001B[0m\u001B[0mcount\u001B[0m\u001B[1;33m(\u001B[0m\u001B[1;33m)\u001B[0m\u001B[1;33m\u001B[0m\u001B[1;33m\u001B[0m\u001B[0m\n\u001B[0m\u001B[0;32m      3\u001B[0m \u001B[0mprint\u001B[0m\u001B[1;33m(\u001B[0m\u001B[1;34mf\"Total number of unique user sessions: {Number_unique_user_sessions}\"\u001B[0m\u001B[1;33m)\u001B[0m\u001B[1;33m\u001B[0m\u001B[1;33m\u001B[0m\u001B[0m\n",
      "\u001B[1;32m~\\anaconda3\\lib\\site-packages\\pyspark\\sql\\dataframe.py\u001B[0m in \u001B[0;36mselect\u001B[1;34m(self, *cols)\u001B[0m\n\u001B[0;32m   2021\u001B[0m         \u001B[1;33m[\u001B[0m\u001B[0mRow\u001B[0m\u001B[1;33m(\u001B[0m\u001B[0mname\u001B[0m\u001B[1;33m=\u001B[0m\u001B[1;34m'Alice'\u001B[0m\u001B[1;33m,\u001B[0m \u001B[0mage\u001B[0m\u001B[1;33m=\u001B[0m\u001B[1;36m12\u001B[0m\u001B[1;33m)\u001B[0m\u001B[1;33m,\u001B[0m \u001B[0mRow\u001B[0m\u001B[1;33m(\u001B[0m\u001B[0mname\u001B[0m\u001B[1;33m=\u001B[0m\u001B[1;34m'Bob'\u001B[0m\u001B[1;33m,\u001B[0m \u001B[0mage\u001B[0m\u001B[1;33m=\u001B[0m\u001B[1;36m15\u001B[0m\u001B[1;33m)\u001B[0m\u001B[1;33m]\u001B[0m\u001B[1;33m\u001B[0m\u001B[1;33m\u001B[0m\u001B[0m\n\u001B[0;32m   2022\u001B[0m         \"\"\"\n\u001B[1;32m-> 2023\u001B[1;33m         \u001B[0mjdf\u001B[0m \u001B[1;33m=\u001B[0m \u001B[0mself\u001B[0m\u001B[1;33m.\u001B[0m\u001B[0m_jdf\u001B[0m\u001B[1;33m.\u001B[0m\u001B[0mselect\u001B[0m\u001B[1;33m(\u001B[0m\u001B[0mself\u001B[0m\u001B[1;33m.\u001B[0m\u001B[0m_jcols\u001B[0m\u001B[1;33m(\u001B[0m\u001B[1;33m*\u001B[0m\u001B[0mcols\u001B[0m\u001B[1;33m)\u001B[0m\u001B[1;33m)\u001B[0m\u001B[1;33m\u001B[0m\u001B[1;33m\u001B[0m\u001B[0m\n\u001B[0m\u001B[0;32m   2024\u001B[0m         \u001B[1;32mreturn\u001B[0m \u001B[0mDataFrame\u001B[0m\u001B[1;33m(\u001B[0m\u001B[0mjdf\u001B[0m\u001B[1;33m,\u001B[0m \u001B[0mself\u001B[0m\u001B[1;33m.\u001B[0m\u001B[0msparkSession\u001B[0m\u001B[1;33m)\u001B[0m\u001B[1;33m\u001B[0m\u001B[1;33m\u001B[0m\u001B[0m\n\u001B[0;32m   2025\u001B[0m \u001B[1;33m\u001B[0m\u001B[0m\n",
      "\u001B[1;32m~\\anaconda3\\lib\\site-packages\\pyspark\\sql\\dataframe.py\u001B[0m in \u001B[0;36m_jcols\u001B[1;34m(self, *cols)\u001B[0m\n\u001B[0;32m   1752\u001B[0m         \u001B[1;32mif\u001B[0m \u001B[0mlen\u001B[0m\u001B[1;33m(\u001B[0m\u001B[0mcols\u001B[0m\u001B[1;33m)\u001B[0m \u001B[1;33m==\u001B[0m \u001B[1;36m1\u001B[0m \u001B[1;32mand\u001B[0m \u001B[0misinstance\u001B[0m\u001B[1;33m(\u001B[0m\u001B[0mcols\u001B[0m\u001B[1;33m[\u001B[0m\u001B[1;36m0\u001B[0m\u001B[1;33m]\u001B[0m\u001B[1;33m,\u001B[0m \u001B[0mlist\u001B[0m\u001B[1;33m)\u001B[0m\u001B[1;33m:\u001B[0m\u001B[1;33m\u001B[0m\u001B[1;33m\u001B[0m\u001B[0m\n\u001B[0;32m   1753\u001B[0m             \u001B[0mcols\u001B[0m \u001B[1;33m=\u001B[0m \u001B[0mcols\u001B[0m\u001B[1;33m[\u001B[0m\u001B[1;36m0\u001B[0m\u001B[1;33m]\u001B[0m\u001B[1;33m\u001B[0m\u001B[1;33m\u001B[0m\u001B[0m\n\u001B[1;32m-> 1754\u001B[1;33m         \u001B[1;32mreturn\u001B[0m \u001B[0mself\u001B[0m\u001B[1;33m.\u001B[0m\u001B[0m_jseq\u001B[0m\u001B[1;33m(\u001B[0m\u001B[0mcols\u001B[0m\u001B[1;33m,\u001B[0m \u001B[0m_to_java_column\u001B[0m\u001B[1;33m)\u001B[0m\u001B[1;33m\u001B[0m\u001B[1;33m\u001B[0m\u001B[0m\n\u001B[0m\u001B[0;32m   1755\u001B[0m \u001B[1;33m\u001B[0m\u001B[0m\n\u001B[0;32m   1756\u001B[0m     def _sort_cols(\n",
      "\u001B[1;32m~\\anaconda3\\lib\\site-packages\\pyspark\\sql\\dataframe.py\u001B[0m in \u001B[0;36m_jseq\u001B[1;34m(self, cols, converter)\u001B[0m\n\u001B[0;32m   1739\u001B[0m     ) -> JavaObject:\n\u001B[0;32m   1740\u001B[0m         \u001B[1;34m\"\"\"Return a JVM Seq of Columns from a list of Column or names\"\"\"\u001B[0m\u001B[1;33m\u001B[0m\u001B[1;33m\u001B[0m\u001B[0m\n\u001B[1;32m-> 1741\u001B[1;33m         \u001B[1;32mreturn\u001B[0m \u001B[0m_to_seq\u001B[0m\u001B[1;33m(\u001B[0m\u001B[0mself\u001B[0m\u001B[1;33m.\u001B[0m\u001B[0msparkSession\u001B[0m\u001B[1;33m.\u001B[0m\u001B[0m_sc\u001B[0m\u001B[1;33m,\u001B[0m \u001B[0mcols\u001B[0m\u001B[1;33m,\u001B[0m \u001B[0mconverter\u001B[0m\u001B[1;33m)\u001B[0m\u001B[1;33m\u001B[0m\u001B[1;33m\u001B[0m\u001B[0m\n\u001B[0m\u001B[0;32m   1742\u001B[0m \u001B[1;33m\u001B[0m\u001B[0m\n\u001B[0;32m   1743\u001B[0m     \u001B[1;32mdef\u001B[0m \u001B[0m_jmap\u001B[0m\u001B[1;33m(\u001B[0m\u001B[0mself\u001B[0m\u001B[1;33m,\u001B[0m \u001B[0mjm\u001B[0m\u001B[1;33m:\u001B[0m \u001B[0mDict\u001B[0m\u001B[1;33m)\u001B[0m \u001B[1;33m->\u001B[0m \u001B[0mJavaObject\u001B[0m\u001B[1;33m:\u001B[0m\u001B[1;33m\u001B[0m\u001B[1;33m\u001B[0m\u001B[0m\n",
      "\u001B[1;32m~\\anaconda3\\lib\\site-packages\\pyspark\\sql\\column.py\u001B[0m in \u001B[0;36m_to_seq\u001B[1;34m(sc, cols, converter)\u001B[0m\n\u001B[0;32m     84\u001B[0m     \"\"\"\n\u001B[0;32m     85\u001B[0m     \u001B[1;32mif\u001B[0m \u001B[0mconverter\u001B[0m\u001B[1;33m:\u001B[0m\u001B[1;33m\u001B[0m\u001B[1;33m\u001B[0m\u001B[0m\n\u001B[1;32m---> 86\u001B[1;33m         \u001B[0mcols\u001B[0m \u001B[1;33m=\u001B[0m \u001B[1;33m[\u001B[0m\u001B[0mconverter\u001B[0m\u001B[1;33m(\u001B[0m\u001B[0mc\u001B[0m\u001B[1;33m)\u001B[0m \u001B[1;32mfor\u001B[0m \u001B[0mc\u001B[0m \u001B[1;32min\u001B[0m \u001B[0mcols\u001B[0m\u001B[1;33m]\u001B[0m\u001B[1;33m\u001B[0m\u001B[1;33m\u001B[0m\u001B[0m\n\u001B[0m\u001B[0;32m     87\u001B[0m     \u001B[1;32massert\u001B[0m \u001B[0msc\u001B[0m\u001B[1;33m.\u001B[0m\u001B[0m_jvm\u001B[0m \u001B[1;32mis\u001B[0m \u001B[1;32mnot\u001B[0m \u001B[1;32mNone\u001B[0m\u001B[1;33m\u001B[0m\u001B[1;33m\u001B[0m\u001B[0m\n\u001B[0;32m     88\u001B[0m     \u001B[1;32mreturn\u001B[0m \u001B[0msc\u001B[0m\u001B[1;33m.\u001B[0m\u001B[0m_jvm\u001B[0m\u001B[1;33m.\u001B[0m\u001B[0mPythonUtils\u001B[0m\u001B[1;33m.\u001B[0m\u001B[0mtoSeq\u001B[0m\u001B[1;33m(\u001B[0m\u001B[0mcols\u001B[0m\u001B[1;33m)\u001B[0m\u001B[1;33m\u001B[0m\u001B[1;33m\u001B[0m\u001B[0m\n",
      "\u001B[1;32m~\\anaconda3\\lib\\site-packages\\pyspark\\sql\\column.py\u001B[0m in \u001B[0;36m<listcomp>\u001B[1;34m(.0)\u001B[0m\n\u001B[0;32m     84\u001B[0m     \"\"\"\n\u001B[0;32m     85\u001B[0m     \u001B[1;32mif\u001B[0m \u001B[0mconverter\u001B[0m\u001B[1;33m:\u001B[0m\u001B[1;33m\u001B[0m\u001B[1;33m\u001B[0m\u001B[0m\n\u001B[1;32m---> 86\u001B[1;33m         \u001B[0mcols\u001B[0m \u001B[1;33m=\u001B[0m \u001B[1;33m[\u001B[0m\u001B[0mconverter\u001B[0m\u001B[1;33m(\u001B[0m\u001B[0mc\u001B[0m\u001B[1;33m)\u001B[0m \u001B[1;32mfor\u001B[0m \u001B[0mc\u001B[0m \u001B[1;32min\u001B[0m \u001B[0mcols\u001B[0m\u001B[1;33m]\u001B[0m\u001B[1;33m\u001B[0m\u001B[1;33m\u001B[0m\u001B[0m\n\u001B[0m\u001B[0;32m     87\u001B[0m     \u001B[1;32massert\u001B[0m \u001B[0msc\u001B[0m\u001B[1;33m.\u001B[0m\u001B[0m_jvm\u001B[0m \u001B[1;32mis\u001B[0m \u001B[1;32mnot\u001B[0m \u001B[1;32mNone\u001B[0m\u001B[1;33m\u001B[0m\u001B[1;33m\u001B[0m\u001B[0m\n\u001B[0;32m     88\u001B[0m     \u001B[1;32mreturn\u001B[0m \u001B[0msc\u001B[0m\u001B[1;33m.\u001B[0m\u001B[0m_jvm\u001B[0m\u001B[1;33m.\u001B[0m\u001B[0mPythonUtils\u001B[0m\u001B[1;33m.\u001B[0m\u001B[0mtoSeq\u001B[0m\u001B[1;33m(\u001B[0m\u001B[0mcols\u001B[0m\u001B[1;33m)\u001B[0m\u001B[1;33m\u001B[0m\u001B[1;33m\u001B[0m\u001B[0m\n",
      "\u001B[1;32m~\\anaconda3\\lib\\site-packages\\pyspark\\sql\\column.py\u001B[0m in \u001B[0;36m_to_java_column\u001B[1;34m(col)\u001B[0m\n\u001B[0;32m     61\u001B[0m         \u001B[0mjcol\u001B[0m \u001B[1;33m=\u001B[0m \u001B[0mcol\u001B[0m\u001B[1;33m.\u001B[0m\u001B[0m_jc\u001B[0m\u001B[1;33m\u001B[0m\u001B[1;33m\u001B[0m\u001B[0m\n\u001B[0;32m     62\u001B[0m     \u001B[1;32melif\u001B[0m \u001B[0misinstance\u001B[0m\u001B[1;33m(\u001B[0m\u001B[0mcol\u001B[0m\u001B[1;33m,\u001B[0m \u001B[0mstr\u001B[0m\u001B[1;33m)\u001B[0m\u001B[1;33m:\u001B[0m\u001B[1;33m\u001B[0m\u001B[1;33m\u001B[0m\u001B[0m\n\u001B[1;32m---> 63\u001B[1;33m         \u001B[0mjcol\u001B[0m \u001B[1;33m=\u001B[0m \u001B[0m_create_column_from_name\u001B[0m\u001B[1;33m(\u001B[0m\u001B[0mcol\u001B[0m\u001B[1;33m)\u001B[0m\u001B[1;33m\u001B[0m\u001B[1;33m\u001B[0m\u001B[0m\n\u001B[0m\u001B[0;32m     64\u001B[0m     \u001B[1;32melse\u001B[0m\u001B[1;33m:\u001B[0m\u001B[1;33m\u001B[0m\u001B[1;33m\u001B[0m\u001B[0m\n\u001B[0;32m     65\u001B[0m         raise TypeError(\n",
      "\u001B[1;32m~\\anaconda3\\lib\\site-packages\\pyspark\\sql\\column.py\u001B[0m in \u001B[0;36m_create_column_from_name\u001B[1;34m(name)\u001B[0m\n\u001B[0;32m     54\u001B[0m     \u001B[0msc\u001B[0m \u001B[1;33m=\u001B[0m \u001B[0mSparkContext\u001B[0m\u001B[1;33m.\u001B[0m\u001B[0m_active_spark_context\u001B[0m\u001B[1;33m\u001B[0m\u001B[1;33m\u001B[0m\u001B[0m\n\u001B[0;32m     55\u001B[0m     \u001B[1;32massert\u001B[0m \u001B[0msc\u001B[0m \u001B[1;32mis\u001B[0m \u001B[1;32mnot\u001B[0m \u001B[1;32mNone\u001B[0m \u001B[1;32mand\u001B[0m \u001B[0msc\u001B[0m\u001B[1;33m.\u001B[0m\u001B[0m_jvm\u001B[0m \u001B[1;32mis\u001B[0m \u001B[1;32mnot\u001B[0m \u001B[1;32mNone\u001B[0m\u001B[1;33m\u001B[0m\u001B[1;33m\u001B[0m\u001B[0m\n\u001B[1;32m---> 56\u001B[1;33m     \u001B[1;32mreturn\u001B[0m \u001B[0msc\u001B[0m\u001B[1;33m.\u001B[0m\u001B[0m_jvm\u001B[0m\u001B[1;33m.\u001B[0m\u001B[0mfunctions\u001B[0m\u001B[1;33m.\u001B[0m\u001B[0mcol\u001B[0m\u001B[1;33m(\u001B[0m\u001B[0mname\u001B[0m\u001B[1;33m)\u001B[0m\u001B[1;33m\u001B[0m\u001B[1;33m\u001B[0m\u001B[0m\n\u001B[0m\u001B[0;32m     57\u001B[0m \u001B[1;33m\u001B[0m\u001B[0m\n\u001B[0;32m     58\u001B[0m \u001B[1;33m\u001B[0m\u001B[0m\n",
      "\u001B[1;32m~\\anaconda3\\lib\\site-packages\\py4j\\java_gateway.py\u001B[0m in \u001B[0;36m__getattr__\u001B[1;34m(self, name)\u001B[0m\n\u001B[0;32m   1707\u001B[0m             \u001B[1;32mreturn\u001B[0m \u001B[0mUserHelpAutoCompletion\u001B[0m\u001B[1;33m(\u001B[0m\u001B[1;33m)\u001B[0m\u001B[1;33m\u001B[0m\u001B[1;33m\u001B[0m\u001B[0m\n\u001B[0;32m   1708\u001B[0m \u001B[1;33m\u001B[0m\u001B[0m\n\u001B[1;32m-> 1709\u001B[1;33m         answer = self._gateway_client.send_command(\n\u001B[0m\u001B[0;32m   1710\u001B[0m             \u001B[0mproto\u001B[0m\u001B[1;33m.\u001B[0m\u001B[0mREFLECTION_COMMAND_NAME\u001B[0m \u001B[1;33m+\u001B[0m\u001B[1;33m\u001B[0m\u001B[1;33m\u001B[0m\u001B[0m\n\u001B[0;32m   1711\u001B[0m             \u001B[0mproto\u001B[0m\u001B[1;33m.\u001B[0m\u001B[0mREFL_GET_UNKNOWN_SUB_COMMAND_NAME\u001B[0m \u001B[1;33m+\u001B[0m \u001B[0mname\u001B[0m \u001B[1;33m+\u001B[0m \u001B[1;34m\"\\n\"\u001B[0m \u001B[1;33m+\u001B[0m \u001B[0mself\u001B[0m\u001B[1;33m.\u001B[0m\u001B[0m_id\u001B[0m \u001B[1;33m+\u001B[0m\u001B[1;33m\u001B[0m\u001B[1;33m\u001B[0m\u001B[0m\n",
      "\u001B[1;32m~\\anaconda3\\lib\\site-packages\\py4j\\java_gateway.py\u001B[0m in \u001B[0;36msend_command\u001B[1;34m(self, command, retry, binary)\u001B[0m\n\u001B[0;32m   1034\u001B[0m          \u001B[1;32mif\u001B[0m\u001B[0;31m \u001B[0m\u001B[0;31m`\u001B[0m\u001B[0mbinary\u001B[0m\u001B[0;31m`\u001B[0m \u001B[1;32mis\u001B[0m\u001B[0;31m \u001B[0m\u001B[0;31m`\u001B[0m\u001B[1;32mTrue\u001B[0m\u001B[0;31m`\u001B[0m\u001B[1;33m.\u001B[0m\u001B[1;33m\u001B[0m\u001B[1;33m\u001B[0m\u001B[0m\n\u001B[0;32m   1035\u001B[0m         \"\"\"\n\u001B[1;32m-> 1036\u001B[1;33m         \u001B[0mconnection\u001B[0m \u001B[1;33m=\u001B[0m \u001B[0mself\u001B[0m\u001B[1;33m.\u001B[0m\u001B[0m_get_connection\u001B[0m\u001B[1;33m(\u001B[0m\u001B[1;33m)\u001B[0m\u001B[1;33m\u001B[0m\u001B[1;33m\u001B[0m\u001B[0m\n\u001B[0m\u001B[0;32m   1037\u001B[0m         \u001B[1;32mtry\u001B[0m\u001B[1;33m:\u001B[0m\u001B[1;33m\u001B[0m\u001B[1;33m\u001B[0m\u001B[0m\n\u001B[0;32m   1038\u001B[0m             \u001B[0mresponse\u001B[0m \u001B[1;33m=\u001B[0m \u001B[0mconnection\u001B[0m\u001B[1;33m.\u001B[0m\u001B[0msend_command\u001B[0m\u001B[1;33m(\u001B[0m\u001B[0mcommand\u001B[0m\u001B[1;33m)\u001B[0m\u001B[1;33m\u001B[0m\u001B[1;33m\u001B[0m\u001B[0m\n",
      "\u001B[1;32m~\\anaconda3\\lib\\site-packages\\py4j\\clientserver.py\u001B[0m in \u001B[0;36m_get_connection\u001B[1;34m(self)\u001B[0m\n\u001B[0;32m    282\u001B[0m \u001B[1;33m\u001B[0m\u001B[0m\n\u001B[0;32m    283\u001B[0m         \u001B[1;32mif\u001B[0m \u001B[0mconnection\u001B[0m \u001B[1;32mis\u001B[0m \u001B[1;32mNone\u001B[0m \u001B[1;32mor\u001B[0m \u001B[0mconnection\u001B[0m\u001B[1;33m.\u001B[0m\u001B[0msocket\u001B[0m \u001B[1;32mis\u001B[0m \u001B[1;32mNone\u001B[0m\u001B[1;33m:\u001B[0m\u001B[1;33m\u001B[0m\u001B[1;33m\u001B[0m\u001B[0m\n\u001B[1;32m--> 284\u001B[1;33m             \u001B[0mconnection\u001B[0m \u001B[1;33m=\u001B[0m \u001B[0mself\u001B[0m\u001B[1;33m.\u001B[0m\u001B[0m_create_new_connection\u001B[0m\u001B[1;33m(\u001B[0m\u001B[1;33m)\u001B[0m\u001B[1;33m\u001B[0m\u001B[1;33m\u001B[0m\u001B[0m\n\u001B[0m\u001B[0;32m    285\u001B[0m         \u001B[1;32mreturn\u001B[0m \u001B[0mconnection\u001B[0m\u001B[1;33m\u001B[0m\u001B[1;33m\u001B[0m\u001B[0m\n\u001B[0;32m    286\u001B[0m \u001B[1;33m\u001B[0m\u001B[0m\n",
      "\u001B[1;32m~\\anaconda3\\lib\\site-packages\\py4j\\clientserver.py\u001B[0m in \u001B[0;36m_create_new_connection\u001B[1;34m(self)\u001B[0m\n\u001B[0;32m    289\u001B[0m             \u001B[0mself\u001B[0m\u001B[1;33m.\u001B[0m\u001B[0mjava_parameters\u001B[0m\u001B[1;33m,\u001B[0m \u001B[0mself\u001B[0m\u001B[1;33m.\u001B[0m\u001B[0mpython_parameters\u001B[0m\u001B[1;33m,\u001B[0m\u001B[1;33m\u001B[0m\u001B[1;33m\u001B[0m\u001B[0m\n\u001B[0;32m    290\u001B[0m             self.gateway_property, self)\n\u001B[1;32m--> 291\u001B[1;33m         \u001B[0mconnection\u001B[0m\u001B[1;33m.\u001B[0m\u001B[0mconnect_to_java_server\u001B[0m\u001B[1;33m(\u001B[0m\u001B[1;33m)\u001B[0m\u001B[1;33m\u001B[0m\u001B[1;33m\u001B[0m\u001B[0m\n\u001B[0m\u001B[0;32m    292\u001B[0m         \u001B[0mself\u001B[0m\u001B[1;33m.\u001B[0m\u001B[0mset_thread_connection\u001B[0m\u001B[1;33m(\u001B[0m\u001B[0mconnection\u001B[0m\u001B[1;33m)\u001B[0m\u001B[1;33m\u001B[0m\u001B[1;33m\u001B[0m\u001B[0m\n\u001B[0;32m    293\u001B[0m         \u001B[1;32mreturn\u001B[0m \u001B[0mconnection\u001B[0m\u001B[1;33m\u001B[0m\u001B[1;33m\u001B[0m\u001B[0m\n",
      "\u001B[1;32m~\\anaconda3\\lib\\site-packages\\py4j\\clientserver.py\u001B[0m in \u001B[0;36mconnect_to_java_server\u001B[1;34m(self)\u001B[0m\n\u001B[0;32m    436\u001B[0m                 self.socket = self.ssl_context.wrap_socket(\n\u001B[0;32m    437\u001B[0m                     self.socket, server_hostname=self.java_address)\n\u001B[1;32m--> 438\u001B[1;33m             \u001B[0mself\u001B[0m\u001B[1;33m.\u001B[0m\u001B[0msocket\u001B[0m\u001B[1;33m.\u001B[0m\u001B[0mconnect\u001B[0m\u001B[1;33m(\u001B[0m\u001B[1;33m(\u001B[0m\u001B[0mself\u001B[0m\u001B[1;33m.\u001B[0m\u001B[0mjava_address\u001B[0m\u001B[1;33m,\u001B[0m \u001B[0mself\u001B[0m\u001B[1;33m.\u001B[0m\u001B[0mjava_port\u001B[0m\u001B[1;33m)\u001B[0m\u001B[1;33m)\u001B[0m\u001B[1;33m\u001B[0m\u001B[1;33m\u001B[0m\u001B[0m\n\u001B[0m\u001B[0;32m    439\u001B[0m             \u001B[0mself\u001B[0m\u001B[1;33m.\u001B[0m\u001B[0mstream\u001B[0m \u001B[1;33m=\u001B[0m \u001B[0mself\u001B[0m\u001B[1;33m.\u001B[0m\u001B[0msocket\u001B[0m\u001B[1;33m.\u001B[0m\u001B[0mmakefile\u001B[0m\u001B[1;33m(\u001B[0m\u001B[1;34m\"rb\"\u001B[0m\u001B[1;33m)\u001B[0m\u001B[1;33m\u001B[0m\u001B[1;33m\u001B[0m\u001B[0m\n\u001B[0;32m    440\u001B[0m             \u001B[0mself\u001B[0m\u001B[1;33m.\u001B[0m\u001B[0mis_connected\u001B[0m \u001B[1;33m=\u001B[0m \u001B[1;32mTrue\u001B[0m\u001B[1;33m\u001B[0m\u001B[1;33m\u001B[0m\u001B[0m\n",
      "\u001B[1;31mConnectionRefusedError\u001B[0m: [WinError 10061] No connection could be made because the target machine actively refused it"
     ]
    }
   ],
   "source": [
    "#Now we want to see how many unique user sessions do we have in our dataset\n",
    "Number_unique_user_sessions = clean_bigdata.select(\"user_session\").distinct().count()\n",
    "print(f\"Total number of unique user sessions: {Number_unique_user_sessions}\")"
   ]
  },
  {
   "cell_type": "code",
   "execution_count": 9,
   "id": "726da2d3-1dd2-42e3-88a0-3a21d959b9f7",
   "metadata": {},
   "outputs": [
    {
     "ename": "ConnectionRefusedError",
     "evalue": "[WinError 10061] No connection could be made because the target machine actively refused it",
     "output_type": "error",
     "traceback": [
      "\u001B[1;31m---------------------------------------------------------------------------\u001B[0m",
      "\u001B[1;31mConnectionRefusedError\u001B[0m                    Traceback (most recent call last)",
      "\u001B[1;32m~\\AppData\\Local\\Temp/ipykernel_24772/2825959112.py\u001B[0m in \u001B[0;36m<module>\u001B[1;34m\u001B[0m\n\u001B[0;32m      1\u001B[0m \u001B[1;31m#Now we want to understand for the time period under scrutiny what is the total number of unique customers that visited our site\u001B[0m\u001B[1;33m\u001B[0m\u001B[1;33m\u001B[0m\u001B[0m\n\u001B[1;32m----> 2\u001B[1;33m \u001B[0mNumber_unique_user_id\u001B[0m \u001B[1;33m=\u001B[0m \u001B[0mbigdata\u001B[0m\u001B[1;33m.\u001B[0m\u001B[0mselect\u001B[0m\u001B[1;33m(\u001B[0m\u001B[1;34m\"user_id\"\u001B[0m\u001B[1;33m)\u001B[0m\u001B[1;33m.\u001B[0m\u001B[0mdistinct\u001B[0m\u001B[1;33m(\u001B[0m\u001B[1;33m)\u001B[0m\u001B[1;33m.\u001B[0m\u001B[0mcount\u001B[0m\u001B[1;33m(\u001B[0m\u001B[1;33m)\u001B[0m\u001B[1;33m\u001B[0m\u001B[1;33m\u001B[0m\u001B[0m\n\u001B[0m\u001B[0;32m      3\u001B[0m \u001B[0mprint\u001B[0m\u001B[1;33m(\u001B[0m\u001B[1;34mf\"Total number of unique user sessions: {Number_unique_user_id}\"\u001B[0m\u001B[1;33m)\u001B[0m\u001B[1;33m\u001B[0m\u001B[1;33m\u001B[0m\u001B[0m\n",
      "\u001B[1;32m~\\anaconda3\\lib\\site-packages\\pyspark\\sql\\dataframe.py\u001B[0m in \u001B[0;36mselect\u001B[1;34m(self, *cols)\u001B[0m\n\u001B[0;32m   2021\u001B[0m         \u001B[1;33m[\u001B[0m\u001B[0mRow\u001B[0m\u001B[1;33m(\u001B[0m\u001B[0mname\u001B[0m\u001B[1;33m=\u001B[0m\u001B[1;34m'Alice'\u001B[0m\u001B[1;33m,\u001B[0m \u001B[0mage\u001B[0m\u001B[1;33m=\u001B[0m\u001B[1;36m12\u001B[0m\u001B[1;33m)\u001B[0m\u001B[1;33m,\u001B[0m \u001B[0mRow\u001B[0m\u001B[1;33m(\u001B[0m\u001B[0mname\u001B[0m\u001B[1;33m=\u001B[0m\u001B[1;34m'Bob'\u001B[0m\u001B[1;33m,\u001B[0m \u001B[0mage\u001B[0m\u001B[1;33m=\u001B[0m\u001B[1;36m15\u001B[0m\u001B[1;33m)\u001B[0m\u001B[1;33m]\u001B[0m\u001B[1;33m\u001B[0m\u001B[1;33m\u001B[0m\u001B[0m\n\u001B[0;32m   2022\u001B[0m         \"\"\"\n\u001B[1;32m-> 2023\u001B[1;33m         \u001B[0mjdf\u001B[0m \u001B[1;33m=\u001B[0m \u001B[0mself\u001B[0m\u001B[1;33m.\u001B[0m\u001B[0m_jdf\u001B[0m\u001B[1;33m.\u001B[0m\u001B[0mselect\u001B[0m\u001B[1;33m(\u001B[0m\u001B[0mself\u001B[0m\u001B[1;33m.\u001B[0m\u001B[0m_jcols\u001B[0m\u001B[1;33m(\u001B[0m\u001B[1;33m*\u001B[0m\u001B[0mcols\u001B[0m\u001B[1;33m)\u001B[0m\u001B[1;33m)\u001B[0m\u001B[1;33m\u001B[0m\u001B[1;33m\u001B[0m\u001B[0m\n\u001B[0m\u001B[0;32m   2024\u001B[0m         \u001B[1;32mreturn\u001B[0m \u001B[0mDataFrame\u001B[0m\u001B[1;33m(\u001B[0m\u001B[0mjdf\u001B[0m\u001B[1;33m,\u001B[0m \u001B[0mself\u001B[0m\u001B[1;33m.\u001B[0m\u001B[0msparkSession\u001B[0m\u001B[1;33m)\u001B[0m\u001B[1;33m\u001B[0m\u001B[1;33m\u001B[0m\u001B[0m\n\u001B[0;32m   2025\u001B[0m \u001B[1;33m\u001B[0m\u001B[0m\n",
      "\u001B[1;32m~\\anaconda3\\lib\\site-packages\\pyspark\\sql\\dataframe.py\u001B[0m in \u001B[0;36m_jcols\u001B[1;34m(self, *cols)\u001B[0m\n\u001B[0;32m   1752\u001B[0m         \u001B[1;32mif\u001B[0m \u001B[0mlen\u001B[0m\u001B[1;33m(\u001B[0m\u001B[0mcols\u001B[0m\u001B[1;33m)\u001B[0m \u001B[1;33m==\u001B[0m \u001B[1;36m1\u001B[0m \u001B[1;32mand\u001B[0m \u001B[0misinstance\u001B[0m\u001B[1;33m(\u001B[0m\u001B[0mcols\u001B[0m\u001B[1;33m[\u001B[0m\u001B[1;36m0\u001B[0m\u001B[1;33m]\u001B[0m\u001B[1;33m,\u001B[0m \u001B[0mlist\u001B[0m\u001B[1;33m)\u001B[0m\u001B[1;33m:\u001B[0m\u001B[1;33m\u001B[0m\u001B[1;33m\u001B[0m\u001B[0m\n\u001B[0;32m   1753\u001B[0m             \u001B[0mcols\u001B[0m \u001B[1;33m=\u001B[0m \u001B[0mcols\u001B[0m\u001B[1;33m[\u001B[0m\u001B[1;36m0\u001B[0m\u001B[1;33m]\u001B[0m\u001B[1;33m\u001B[0m\u001B[1;33m\u001B[0m\u001B[0m\n\u001B[1;32m-> 1754\u001B[1;33m         \u001B[1;32mreturn\u001B[0m \u001B[0mself\u001B[0m\u001B[1;33m.\u001B[0m\u001B[0m_jseq\u001B[0m\u001B[1;33m(\u001B[0m\u001B[0mcols\u001B[0m\u001B[1;33m,\u001B[0m \u001B[0m_to_java_column\u001B[0m\u001B[1;33m)\u001B[0m\u001B[1;33m\u001B[0m\u001B[1;33m\u001B[0m\u001B[0m\n\u001B[0m\u001B[0;32m   1755\u001B[0m \u001B[1;33m\u001B[0m\u001B[0m\n\u001B[0;32m   1756\u001B[0m     def _sort_cols(\n",
      "\u001B[1;32m~\\anaconda3\\lib\\site-packages\\pyspark\\sql\\dataframe.py\u001B[0m in \u001B[0;36m_jseq\u001B[1;34m(self, cols, converter)\u001B[0m\n\u001B[0;32m   1739\u001B[0m     ) -> JavaObject:\n\u001B[0;32m   1740\u001B[0m         \u001B[1;34m\"\"\"Return a JVM Seq of Columns from a list of Column or names\"\"\"\u001B[0m\u001B[1;33m\u001B[0m\u001B[1;33m\u001B[0m\u001B[0m\n\u001B[1;32m-> 1741\u001B[1;33m         \u001B[1;32mreturn\u001B[0m \u001B[0m_to_seq\u001B[0m\u001B[1;33m(\u001B[0m\u001B[0mself\u001B[0m\u001B[1;33m.\u001B[0m\u001B[0msparkSession\u001B[0m\u001B[1;33m.\u001B[0m\u001B[0m_sc\u001B[0m\u001B[1;33m,\u001B[0m \u001B[0mcols\u001B[0m\u001B[1;33m,\u001B[0m \u001B[0mconverter\u001B[0m\u001B[1;33m)\u001B[0m\u001B[1;33m\u001B[0m\u001B[1;33m\u001B[0m\u001B[0m\n\u001B[0m\u001B[0;32m   1742\u001B[0m \u001B[1;33m\u001B[0m\u001B[0m\n\u001B[0;32m   1743\u001B[0m     \u001B[1;32mdef\u001B[0m \u001B[0m_jmap\u001B[0m\u001B[1;33m(\u001B[0m\u001B[0mself\u001B[0m\u001B[1;33m,\u001B[0m \u001B[0mjm\u001B[0m\u001B[1;33m:\u001B[0m \u001B[0mDict\u001B[0m\u001B[1;33m)\u001B[0m \u001B[1;33m->\u001B[0m \u001B[0mJavaObject\u001B[0m\u001B[1;33m:\u001B[0m\u001B[1;33m\u001B[0m\u001B[1;33m\u001B[0m\u001B[0m\n",
      "\u001B[1;32m~\\anaconda3\\lib\\site-packages\\pyspark\\sql\\column.py\u001B[0m in \u001B[0;36m_to_seq\u001B[1;34m(sc, cols, converter)\u001B[0m\n\u001B[0;32m     84\u001B[0m     \"\"\"\n\u001B[0;32m     85\u001B[0m     \u001B[1;32mif\u001B[0m \u001B[0mconverter\u001B[0m\u001B[1;33m:\u001B[0m\u001B[1;33m\u001B[0m\u001B[1;33m\u001B[0m\u001B[0m\n\u001B[1;32m---> 86\u001B[1;33m         \u001B[0mcols\u001B[0m \u001B[1;33m=\u001B[0m \u001B[1;33m[\u001B[0m\u001B[0mconverter\u001B[0m\u001B[1;33m(\u001B[0m\u001B[0mc\u001B[0m\u001B[1;33m)\u001B[0m \u001B[1;32mfor\u001B[0m \u001B[0mc\u001B[0m \u001B[1;32min\u001B[0m \u001B[0mcols\u001B[0m\u001B[1;33m]\u001B[0m\u001B[1;33m\u001B[0m\u001B[1;33m\u001B[0m\u001B[0m\n\u001B[0m\u001B[0;32m     87\u001B[0m     \u001B[1;32massert\u001B[0m \u001B[0msc\u001B[0m\u001B[1;33m.\u001B[0m\u001B[0m_jvm\u001B[0m \u001B[1;32mis\u001B[0m \u001B[1;32mnot\u001B[0m \u001B[1;32mNone\u001B[0m\u001B[1;33m\u001B[0m\u001B[1;33m\u001B[0m\u001B[0m\n\u001B[0;32m     88\u001B[0m     \u001B[1;32mreturn\u001B[0m \u001B[0msc\u001B[0m\u001B[1;33m.\u001B[0m\u001B[0m_jvm\u001B[0m\u001B[1;33m.\u001B[0m\u001B[0mPythonUtils\u001B[0m\u001B[1;33m.\u001B[0m\u001B[0mtoSeq\u001B[0m\u001B[1;33m(\u001B[0m\u001B[0mcols\u001B[0m\u001B[1;33m)\u001B[0m\u001B[1;33m\u001B[0m\u001B[1;33m\u001B[0m\u001B[0m\n",
      "\u001B[1;32m~\\anaconda3\\lib\\site-packages\\pyspark\\sql\\column.py\u001B[0m in \u001B[0;36m<listcomp>\u001B[1;34m(.0)\u001B[0m\n\u001B[0;32m     84\u001B[0m     \"\"\"\n\u001B[0;32m     85\u001B[0m     \u001B[1;32mif\u001B[0m \u001B[0mconverter\u001B[0m\u001B[1;33m:\u001B[0m\u001B[1;33m\u001B[0m\u001B[1;33m\u001B[0m\u001B[0m\n\u001B[1;32m---> 86\u001B[1;33m         \u001B[0mcols\u001B[0m \u001B[1;33m=\u001B[0m \u001B[1;33m[\u001B[0m\u001B[0mconverter\u001B[0m\u001B[1;33m(\u001B[0m\u001B[0mc\u001B[0m\u001B[1;33m)\u001B[0m \u001B[1;32mfor\u001B[0m \u001B[0mc\u001B[0m \u001B[1;32min\u001B[0m \u001B[0mcols\u001B[0m\u001B[1;33m]\u001B[0m\u001B[1;33m\u001B[0m\u001B[1;33m\u001B[0m\u001B[0m\n\u001B[0m\u001B[0;32m     87\u001B[0m     \u001B[1;32massert\u001B[0m \u001B[0msc\u001B[0m\u001B[1;33m.\u001B[0m\u001B[0m_jvm\u001B[0m \u001B[1;32mis\u001B[0m \u001B[1;32mnot\u001B[0m \u001B[1;32mNone\u001B[0m\u001B[1;33m\u001B[0m\u001B[1;33m\u001B[0m\u001B[0m\n\u001B[0;32m     88\u001B[0m     \u001B[1;32mreturn\u001B[0m \u001B[0msc\u001B[0m\u001B[1;33m.\u001B[0m\u001B[0m_jvm\u001B[0m\u001B[1;33m.\u001B[0m\u001B[0mPythonUtils\u001B[0m\u001B[1;33m.\u001B[0m\u001B[0mtoSeq\u001B[0m\u001B[1;33m(\u001B[0m\u001B[0mcols\u001B[0m\u001B[1;33m)\u001B[0m\u001B[1;33m\u001B[0m\u001B[1;33m\u001B[0m\u001B[0m\n",
      "\u001B[1;32m~\\anaconda3\\lib\\site-packages\\pyspark\\sql\\column.py\u001B[0m in \u001B[0;36m_to_java_column\u001B[1;34m(col)\u001B[0m\n\u001B[0;32m     61\u001B[0m         \u001B[0mjcol\u001B[0m \u001B[1;33m=\u001B[0m \u001B[0mcol\u001B[0m\u001B[1;33m.\u001B[0m\u001B[0m_jc\u001B[0m\u001B[1;33m\u001B[0m\u001B[1;33m\u001B[0m\u001B[0m\n\u001B[0;32m     62\u001B[0m     \u001B[1;32melif\u001B[0m \u001B[0misinstance\u001B[0m\u001B[1;33m(\u001B[0m\u001B[0mcol\u001B[0m\u001B[1;33m,\u001B[0m \u001B[0mstr\u001B[0m\u001B[1;33m)\u001B[0m\u001B[1;33m:\u001B[0m\u001B[1;33m\u001B[0m\u001B[1;33m\u001B[0m\u001B[0m\n\u001B[1;32m---> 63\u001B[1;33m         \u001B[0mjcol\u001B[0m \u001B[1;33m=\u001B[0m \u001B[0m_create_column_from_name\u001B[0m\u001B[1;33m(\u001B[0m\u001B[0mcol\u001B[0m\u001B[1;33m)\u001B[0m\u001B[1;33m\u001B[0m\u001B[1;33m\u001B[0m\u001B[0m\n\u001B[0m\u001B[0;32m     64\u001B[0m     \u001B[1;32melse\u001B[0m\u001B[1;33m:\u001B[0m\u001B[1;33m\u001B[0m\u001B[1;33m\u001B[0m\u001B[0m\n\u001B[0;32m     65\u001B[0m         raise TypeError(\n",
      "\u001B[1;32m~\\anaconda3\\lib\\site-packages\\pyspark\\sql\\column.py\u001B[0m in \u001B[0;36m_create_column_from_name\u001B[1;34m(name)\u001B[0m\n\u001B[0;32m     54\u001B[0m     \u001B[0msc\u001B[0m \u001B[1;33m=\u001B[0m \u001B[0mSparkContext\u001B[0m\u001B[1;33m.\u001B[0m\u001B[0m_active_spark_context\u001B[0m\u001B[1;33m\u001B[0m\u001B[1;33m\u001B[0m\u001B[0m\n\u001B[0;32m     55\u001B[0m     \u001B[1;32massert\u001B[0m \u001B[0msc\u001B[0m \u001B[1;32mis\u001B[0m \u001B[1;32mnot\u001B[0m \u001B[1;32mNone\u001B[0m \u001B[1;32mand\u001B[0m \u001B[0msc\u001B[0m\u001B[1;33m.\u001B[0m\u001B[0m_jvm\u001B[0m \u001B[1;32mis\u001B[0m \u001B[1;32mnot\u001B[0m \u001B[1;32mNone\u001B[0m\u001B[1;33m\u001B[0m\u001B[1;33m\u001B[0m\u001B[0m\n\u001B[1;32m---> 56\u001B[1;33m     \u001B[1;32mreturn\u001B[0m \u001B[0msc\u001B[0m\u001B[1;33m.\u001B[0m\u001B[0m_jvm\u001B[0m\u001B[1;33m.\u001B[0m\u001B[0mfunctions\u001B[0m\u001B[1;33m.\u001B[0m\u001B[0mcol\u001B[0m\u001B[1;33m(\u001B[0m\u001B[0mname\u001B[0m\u001B[1;33m)\u001B[0m\u001B[1;33m\u001B[0m\u001B[1;33m\u001B[0m\u001B[0m\n\u001B[0m\u001B[0;32m     57\u001B[0m \u001B[1;33m\u001B[0m\u001B[0m\n\u001B[0;32m     58\u001B[0m \u001B[1;33m\u001B[0m\u001B[0m\n",
      "\u001B[1;32m~\\anaconda3\\lib\\site-packages\\py4j\\java_gateway.py\u001B[0m in \u001B[0;36m__getattr__\u001B[1;34m(self, name)\u001B[0m\n\u001B[0;32m   1707\u001B[0m             \u001B[1;32mreturn\u001B[0m \u001B[0mUserHelpAutoCompletion\u001B[0m\u001B[1;33m(\u001B[0m\u001B[1;33m)\u001B[0m\u001B[1;33m\u001B[0m\u001B[1;33m\u001B[0m\u001B[0m\n\u001B[0;32m   1708\u001B[0m \u001B[1;33m\u001B[0m\u001B[0m\n\u001B[1;32m-> 1709\u001B[1;33m         answer = self._gateway_client.send_command(\n\u001B[0m\u001B[0;32m   1710\u001B[0m             \u001B[0mproto\u001B[0m\u001B[1;33m.\u001B[0m\u001B[0mREFLECTION_COMMAND_NAME\u001B[0m \u001B[1;33m+\u001B[0m\u001B[1;33m\u001B[0m\u001B[1;33m\u001B[0m\u001B[0m\n\u001B[0;32m   1711\u001B[0m             \u001B[0mproto\u001B[0m\u001B[1;33m.\u001B[0m\u001B[0mREFL_GET_UNKNOWN_SUB_COMMAND_NAME\u001B[0m \u001B[1;33m+\u001B[0m \u001B[0mname\u001B[0m \u001B[1;33m+\u001B[0m \u001B[1;34m\"\\n\"\u001B[0m \u001B[1;33m+\u001B[0m \u001B[0mself\u001B[0m\u001B[1;33m.\u001B[0m\u001B[0m_id\u001B[0m \u001B[1;33m+\u001B[0m\u001B[1;33m\u001B[0m\u001B[1;33m\u001B[0m\u001B[0m\n",
      "\u001B[1;32m~\\anaconda3\\lib\\site-packages\\py4j\\java_gateway.py\u001B[0m in \u001B[0;36msend_command\u001B[1;34m(self, command, retry, binary)\u001B[0m\n\u001B[0;32m   1034\u001B[0m          \u001B[1;32mif\u001B[0m\u001B[0;31m \u001B[0m\u001B[0;31m`\u001B[0m\u001B[0mbinary\u001B[0m\u001B[0;31m`\u001B[0m \u001B[1;32mis\u001B[0m\u001B[0;31m \u001B[0m\u001B[0;31m`\u001B[0m\u001B[1;32mTrue\u001B[0m\u001B[0;31m`\u001B[0m\u001B[1;33m.\u001B[0m\u001B[1;33m\u001B[0m\u001B[1;33m\u001B[0m\u001B[0m\n\u001B[0;32m   1035\u001B[0m         \"\"\"\n\u001B[1;32m-> 1036\u001B[1;33m         \u001B[0mconnection\u001B[0m \u001B[1;33m=\u001B[0m \u001B[0mself\u001B[0m\u001B[1;33m.\u001B[0m\u001B[0m_get_connection\u001B[0m\u001B[1;33m(\u001B[0m\u001B[1;33m)\u001B[0m\u001B[1;33m\u001B[0m\u001B[1;33m\u001B[0m\u001B[0m\n\u001B[0m\u001B[0;32m   1037\u001B[0m         \u001B[1;32mtry\u001B[0m\u001B[1;33m:\u001B[0m\u001B[1;33m\u001B[0m\u001B[1;33m\u001B[0m\u001B[0m\n\u001B[0;32m   1038\u001B[0m             \u001B[0mresponse\u001B[0m \u001B[1;33m=\u001B[0m \u001B[0mconnection\u001B[0m\u001B[1;33m.\u001B[0m\u001B[0msend_command\u001B[0m\u001B[1;33m(\u001B[0m\u001B[0mcommand\u001B[0m\u001B[1;33m)\u001B[0m\u001B[1;33m\u001B[0m\u001B[1;33m\u001B[0m\u001B[0m\n",
      "\u001B[1;32m~\\anaconda3\\lib\\site-packages\\py4j\\clientserver.py\u001B[0m in \u001B[0;36m_get_connection\u001B[1;34m(self)\u001B[0m\n\u001B[0;32m    282\u001B[0m \u001B[1;33m\u001B[0m\u001B[0m\n\u001B[0;32m    283\u001B[0m         \u001B[1;32mif\u001B[0m \u001B[0mconnection\u001B[0m \u001B[1;32mis\u001B[0m \u001B[1;32mNone\u001B[0m \u001B[1;32mor\u001B[0m \u001B[0mconnection\u001B[0m\u001B[1;33m.\u001B[0m\u001B[0msocket\u001B[0m \u001B[1;32mis\u001B[0m \u001B[1;32mNone\u001B[0m\u001B[1;33m:\u001B[0m\u001B[1;33m\u001B[0m\u001B[1;33m\u001B[0m\u001B[0m\n\u001B[1;32m--> 284\u001B[1;33m             \u001B[0mconnection\u001B[0m \u001B[1;33m=\u001B[0m \u001B[0mself\u001B[0m\u001B[1;33m.\u001B[0m\u001B[0m_create_new_connection\u001B[0m\u001B[1;33m(\u001B[0m\u001B[1;33m)\u001B[0m\u001B[1;33m\u001B[0m\u001B[1;33m\u001B[0m\u001B[0m\n\u001B[0m\u001B[0;32m    285\u001B[0m         \u001B[1;32mreturn\u001B[0m \u001B[0mconnection\u001B[0m\u001B[1;33m\u001B[0m\u001B[1;33m\u001B[0m\u001B[0m\n\u001B[0;32m    286\u001B[0m \u001B[1;33m\u001B[0m\u001B[0m\n",
      "\u001B[1;32m~\\anaconda3\\lib\\site-packages\\py4j\\clientserver.py\u001B[0m in \u001B[0;36m_create_new_connection\u001B[1;34m(self)\u001B[0m\n\u001B[0;32m    289\u001B[0m             \u001B[0mself\u001B[0m\u001B[1;33m.\u001B[0m\u001B[0mjava_parameters\u001B[0m\u001B[1;33m,\u001B[0m \u001B[0mself\u001B[0m\u001B[1;33m.\u001B[0m\u001B[0mpython_parameters\u001B[0m\u001B[1;33m,\u001B[0m\u001B[1;33m\u001B[0m\u001B[1;33m\u001B[0m\u001B[0m\n\u001B[0;32m    290\u001B[0m             self.gateway_property, self)\n\u001B[1;32m--> 291\u001B[1;33m         \u001B[0mconnection\u001B[0m\u001B[1;33m.\u001B[0m\u001B[0mconnect_to_java_server\u001B[0m\u001B[1;33m(\u001B[0m\u001B[1;33m)\u001B[0m\u001B[1;33m\u001B[0m\u001B[1;33m\u001B[0m\u001B[0m\n\u001B[0m\u001B[0;32m    292\u001B[0m         \u001B[0mself\u001B[0m\u001B[1;33m.\u001B[0m\u001B[0mset_thread_connection\u001B[0m\u001B[1;33m(\u001B[0m\u001B[0mconnection\u001B[0m\u001B[1;33m)\u001B[0m\u001B[1;33m\u001B[0m\u001B[1;33m\u001B[0m\u001B[0m\n\u001B[0;32m    293\u001B[0m         \u001B[1;32mreturn\u001B[0m \u001B[0mconnection\u001B[0m\u001B[1;33m\u001B[0m\u001B[1;33m\u001B[0m\u001B[0m\n",
      "\u001B[1;32m~\\anaconda3\\lib\\site-packages\\py4j\\clientserver.py\u001B[0m in \u001B[0;36mconnect_to_java_server\u001B[1;34m(self)\u001B[0m\n\u001B[0;32m    436\u001B[0m                 self.socket = self.ssl_context.wrap_socket(\n\u001B[0;32m    437\u001B[0m                     self.socket, server_hostname=self.java_address)\n\u001B[1;32m--> 438\u001B[1;33m             \u001B[0mself\u001B[0m\u001B[1;33m.\u001B[0m\u001B[0msocket\u001B[0m\u001B[1;33m.\u001B[0m\u001B[0mconnect\u001B[0m\u001B[1;33m(\u001B[0m\u001B[1;33m(\u001B[0m\u001B[0mself\u001B[0m\u001B[1;33m.\u001B[0m\u001B[0mjava_address\u001B[0m\u001B[1;33m,\u001B[0m \u001B[0mself\u001B[0m\u001B[1;33m.\u001B[0m\u001B[0mjava_port\u001B[0m\u001B[1;33m)\u001B[0m\u001B[1;33m)\u001B[0m\u001B[1;33m\u001B[0m\u001B[1;33m\u001B[0m\u001B[0m\n\u001B[0m\u001B[0;32m    439\u001B[0m             \u001B[0mself\u001B[0m\u001B[1;33m.\u001B[0m\u001B[0mstream\u001B[0m \u001B[1;33m=\u001B[0m \u001B[0mself\u001B[0m\u001B[1;33m.\u001B[0m\u001B[0msocket\u001B[0m\u001B[1;33m.\u001B[0m\u001B[0mmakefile\u001B[0m\u001B[1;33m(\u001B[0m\u001B[1;34m\"rb\"\u001B[0m\u001B[1;33m)\u001B[0m\u001B[1;33m\u001B[0m\u001B[1;33m\u001B[0m\u001B[0m\n\u001B[0;32m    440\u001B[0m             \u001B[0mself\u001B[0m\u001B[1;33m.\u001B[0m\u001B[0mis_connected\u001B[0m \u001B[1;33m=\u001B[0m \u001B[1;32mTrue\u001B[0m\u001B[1;33m\u001B[0m\u001B[1;33m\u001B[0m\u001B[0m\n",
      "\u001B[1;31mConnectionRefusedError\u001B[0m: [WinError 10061] No connection could be made because the target machine actively refused it"
     ]
    }
   ],
   "source": [
    "#Now we want to understand for the time period under scrutiny what is the total number of unique customers that visited our site\n",
    "Number_unique_user_id = bigdata.select(\"user_id\").distinct().count()\n",
    "print(f\"Total number of unique user sessions: {Number_unique_user_id}\")"
   ]
  },
  {
   "cell_type": "code",
   "execution_count": 9,
   "id": "2279ef30-66c9-4236-b6bc-1b4b046b6ea9",
   "metadata": {},
   "outputs": [
    {
     "name": "stdout",
     "output_type": "stream",
     "text": [
      "+-------+------------------+\n",
      "|summary|             price|\n",
      "+-------+------------------+\n",
      "|  count|          67501979|\n",
      "|   mean|292.45931656461437|\n",
      "| stddev|355.67449958606784|\n",
      "|    min|               0.0|\n",
      "|    max|           2574.07|\n",
      "+-------+------------------+\n",
      "\n"
     ]
    }
   ],
   "source": [
    "#Now we want to check the price range and stastical measures for products on our site\n",
    "bigdata.describe(\"price\").show()"
   ]
  },
  {
   "cell_type": "code",
   "execution_count": 10,
   "id": "2093a41b-1f5b-4877-b6b4-a28871c41581",
   "metadata": {},
   "outputs": [
    {
     "name": "stdout",
     "output_type": "stream",
     "text": [
      "+-------------+------+\n",
      "|        brand| count|\n",
      "+-------------+------+\n",
      "|     yokohama|128697|\n",
      "|      edifier|  3565|\n",
      "|        welss|  4929|\n",
      "|      tuffoni|  3617|\n",
      "|         tega|  2317|\n",
      "|      serebro|  7105|\n",
      "|        crest|   325|\n",
      "|         tmnt|   574|\n",
      "|       alutec|  2587|\n",
      "|        sonel| 11501|\n",
      "|     nocnezna|   250|\n",
      "|     nutricia|  2496|\n",
      "|      bombbar|   852|\n",
      "|trianglegroup|    97|\n",
      "|      keenway|  2368|\n",
      "|        sigma|  2424|\n",
      "|        goo.n|  1031|\n",
      "|      fitwell|   532|\n",
      "| belaakalitva|   218|\n",
      "|       marley|  1063|\n",
      "+-------------+------+\n",
      "only showing top 20 rows\n",
      "\n"
     ]
    }
   ],
   "source": [
    "#We can also look at the brands and events associated with each brand\n",
    "bigdata.groupby(\"brand\").count().show()"
   ]
  },
  {
   "cell_type": "code",
   "execution_count": null,
   "id": "760adbdc-4648-4493-978b-4c519f1641a3",
   "metadata": {},
   "outputs": [],
   "source": [
    "#We can also look at the spend by category_code and by brand, but first we need to see what event actually occurred. Only Event = purchase will be considered.\n",
    "bigdata.groupby(\"event_type\",\"price\").sum().show()"
   ]
  }
 ],
 "metadata": {
  "kernelspec": {
   "display_name": "Python 3 (ipykernel)",
   "language": "python",
   "name": "python3"
  },
  "language_info": {
   "codemirror_mode": {
    "name": "ipython",
    "version": 3
   },
   "file_extension": ".py",
   "mimetype": "text/x-python",
   "name": "python",
   "nbconvert_exporter": "python",
   "pygments_lexer": "ipython3",
   "version": "3.9.7"
  }
 },
 "nbformat": 4,
 "nbformat_minor": 5
}
