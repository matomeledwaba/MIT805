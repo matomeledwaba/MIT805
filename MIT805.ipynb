{
 "cells": [
  {
   "cell_type": "code",
   "execution_count": 1,
   "id": "e56f1f90-b63e-4092-b218-4ffd2f86b768",
   "metadata": {},
   "outputs": [],
   "source": [
    "#Using the spark session to get an sql \n",
    "import pyspark as ps\n",
    "spark = ps.sql.SparkSession.builder.getOrCreate()"
   ]
  },
  {
   "cell_type": "code",
   "execution_count": 2,
   "id": "2a11aea1-8f9e-4ad3-a228-a40fbcf94b49",
   "metadata": {},
   "outputs": [],
   "source": [
    "#This provides us with a way of getting an sql dataframe with a schema that structures the data, the \n",
    "bigdata = spark.read.csv(r'C:\\Users\\matom\\OneDrive\\Documents\\Data Science\\MIT Big Data\\MIT805\\multiproductdata.csv', header = True, inferSchema=True)"
   ]
  },
  {
   "cell_type": "code",
   "execution_count": 3,
   "id": "551feeb9-a7d2-4928-8356-68f0cc2149ed",
   "metadata": {},
   "outputs": [
    {
     "name": "stdout",
     "output_type": "stream",
     "text": [
      "root\n",
      " |-- event_time: timestamp (nullable = true)\n",
      " |-- event_type: string (nullable = true)\n",
      " |-- product_id: integer (nullable = true)\n",
      " |-- category_id: long (nullable = true)\n",
      " |-- category_code: string (nullable = true)\n",
      " |-- brand: string (nullable = true)\n",
      " |-- price: double (nullable = true)\n",
      " |-- user_id: integer (nullable = true)\n",
      " |-- user_session: string (nullable = true)\n",
      "\n"
     ]
    }
   ],
   "source": [
    "#Now we can see the schema of the dataframe using the following command\n",
    "bigdata.printSchema()"
   ]
  },
  {
   "cell_type": "code",
   "execution_count": 4,
   "id": "9f12f7a3-e61f-4319-95c8-413d2902d1bc",
   "metadata": {},
   "outputs": [
    {
     "data": {
      "text/plain": [
       "9"
      ]
     },
     "execution_count": 4,
     "metadata": {},
     "output_type": "execute_result"
    }
   ],
   "source": [
    "#Length of the columns in my dataframe\n",
    "len(bigdata.columns)"
   ]
  },
  {
   "cell_type": "code",
   "execution_count": 5,
   "id": "953c66c2-040a-4458-a42d-29e4b71463f9",
   "metadata": {},
   "outputs": [
    {
     "data": {
      "text/plain": [
       "67501979"
      ]
     },
     "execution_count": 5,
     "metadata": {},
     "output_type": "execute_result"
    }
   ],
   "source": [
    "#Check the count of the rows in my dataframe\n",
    "bigdata.count()"
   ]
  },
  {
   "cell_type": "code",
   "execution_count": 6,
   "id": "de847f47-6c3b-4907-a053-50a5258fffcb",
   "metadata": {},
   "outputs": [
    {
     "name": "stdout",
     "output_type": "stream",
     "text": [
      "+-------------------+------+--------------------+\n",
      "|         event_time| brand|        user_session|\n",
      "+-------------------+------+--------------------+\n",
      "|2019-11-01 02:00:00|xiaomi|4d3b30da-a5e4-49d...|\n",
      "|2019-11-01 02:00:00|janome|8e5f4f83-366c-4f7...|\n",
      "|2019-11-01 02:00:01| creed|755422e7-9040-477...|\n",
      "|2019-11-01 02:00:01|    lg|3bfb58cd-7892-48c...|\n",
      "|2019-11-01 02:00:01|xiaomi|313628f1-68b8-460...|\n",
      "+-------------------+------+--------------------+\n",
      "only showing top 5 rows\n",
      "\n"
     ]
    }
   ],
   "source": [
    "bigdata.select(\"event_time\",\"brand\",\"user_session\").show(5)"
   ]
  },
  {
   "cell_type": "code",
   "execution_count": 7,
   "id": "98436b52-09cf-4094-85d7-9cb6934577fa",
   "metadata": {},
   "outputs": [
    {
     "name": "stdout",
     "output_type": "stream",
     "text": [
      "Total number of unique user sessions: 13776051\n"
     ]
    }
   ],
   "source": [
    "#Now we want to see how many unique user sessions do we have in our dataset\n",
    "Number_unique_user_sessions = bigdata.select(\"user_session\").distinct().count()\n",
    "print(f\"Total number of unique user sessions: {Number_unique_user_sessions}\")"
   ]
  },
  {
   "cell_type": "code",
   "execution_count": 8,
   "id": "726da2d3-1dd2-42e3-88a0-3a21d959b9f7",
   "metadata": {},
   "outputs": [
    {
     "name": "stdout",
     "output_type": "stream",
     "text": [
      "Total number of unique user sessions: 3696117\n"
     ]
    }
   ],
   "source": [
    "#Now we want to understand for the time period under scrutiny what is the total number of unique customers that visited our site\n",
    "Number_unique_user_id = bigdata.select(\"user_id\").distinct().count()\n",
    "print(f\"Total number of unique user sessions: {Number_unique_user_id}\")"
   ]
  },
  {
   "cell_type": "code",
   "execution_count": 9,
   "id": "2279ef30-66c9-4236-b6bc-1b4b046b6ea9",
   "metadata": {},
   "outputs": [
    {
     "name": "stdout",
     "output_type": "stream",
     "text": [
      "+-------+------------------+\n",
      "|summary|             price|\n",
      "+-------+------------------+\n",
      "|  count|          67501979|\n",
      "|   mean|292.45931656461437|\n",
      "| stddev|355.67449958606784|\n",
      "|    min|               0.0|\n",
      "|    max|           2574.07|\n",
      "+-------+------------------+\n",
      "\n"
     ]
    }
   ],
   "source": [
    "#Now we want to check the price range and stastical measures for products on our site\n",
    "bigdata.describe(\"price\").show()"
   ]
  },
  {
   "cell_type": "code",
   "execution_count": 10,
   "id": "2093a41b-1f5b-4877-b6b4-a28871c41581",
   "metadata": {},
   "outputs": [
    {
     "name": "stdout",
     "output_type": "stream",
     "text": [
      "+-------------+------+\n",
      "|        brand| count|\n",
      "+-------------+------+\n",
      "|     yokohama|128697|\n",
      "|      edifier|  3565|\n",
      "|        welss|  4929|\n",
      "|      tuffoni|  3617|\n",
      "|         tega|  2317|\n",
      "|      serebro|  7105|\n",
      "|        crest|   325|\n",
      "|         tmnt|   574|\n",
      "|       alutec|  2587|\n",
      "|        sonel| 11501|\n",
      "|     nocnezna|   250|\n",
      "|     nutricia|  2496|\n",
      "|      bombbar|   852|\n",
      "|trianglegroup|    97|\n",
      "|      keenway|  2368|\n",
      "|        sigma|  2424|\n",
      "|        goo.n|  1031|\n",
      "|      fitwell|   532|\n",
      "| belaakalitva|   218|\n",
      "|       marley|  1063|\n",
      "+-------------+------+\n",
      "only showing top 20 rows\n",
      "\n"
     ]
    }
   ],
   "source": [
    "#We can also look at the brands and events associated with each brand\n",
    "bigdata.groupby(\"brand\").count().show()"
   ]
  },
  {
   "cell_type": "code",
   "execution_count": null,
   "id": "760adbdc-4648-4493-978b-4c519f1641a3",
   "metadata": {},
   "outputs": [],
   "source": [
    "#We can also look at the spend by category_code and by brand, but first we need to see what event actually occurred. Only Event = purchase will be considered.\n",
    "bigdata.groupby(\"event_type\",\"price\").sum().show()"
   ]
  }
 ],
 "metadata": {
  "kernelspec": {
   "display_name": "Python 3 (ipykernel)",
   "language": "python",
   "name": "python3"
  },
  "language_info": {
   "codemirror_mode": {
    "name": "ipython",
    "version": 3
   },
   "file_extension": ".py",
   "mimetype": "text/x-python",
   "name": "python",
   "nbconvert_exporter": "python",
   "pygments_lexer": "ipython3",
   "version": "3.9.7"
  }
 },
 "nbformat": 4,
 "nbformat_minor": 5
}
